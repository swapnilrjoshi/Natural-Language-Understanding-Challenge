{
 "cells": [
  {
   "cell_type": "markdown",
   "metadata": {},
   "source": [
    "# Problem Statement"
   ]
  },
  {
   "cell_type": "markdown",
   "metadata": {},
   "source": [
    "As the machine learning engineer at a leading edtech company, we have given a dataset of a triplet of question, reference answers and student answers. We also have labels indicating if a corresponding student answer is correct or not. \n",
    "Now the task is, given a new student answer to a known question we have to classify it as correct or incorrect."
   ]
  },
  {
   "cell_type": "code",
   "execution_count": 95,
   "metadata": {},
   "outputs": [],
   "source": [
    "import xml.etree.ElementTree as ET \n",
    "import os\n",
    "import pandas as pd\n",
    "import random\n",
    "from nltk import word_tokenize\n",
    "from nltk.corpus import stopwords\n",
    "import string\n",
    "%matplotlib inline\n",
    "import warnings\n",
    "warnings.filterwarnings('ignore')"
   ]
  },
  {
   "cell_type": "code",
   "execution_count": 2,
   "metadata": {},
   "outputs": [],
   "source": [
    "#Set working directory path\n",
    "os.chdir('.\\Dataset\\Task A')"
   ]
  },
  {
   "cell_type": "markdown",
   "metadata": {},
   "source": [
    "# Data Reading "
   ]
  },
  {
   "cell_type": "code",
   "execution_count": 3,
   "metadata": {},
   "outputs": [],
   "source": [
    "#Read all file names in a directory\n",
    "xml_files = os.listdir()\n",
    "xml_files.remove('datanotes.html')"
   ]
  },
  {
   "cell_type": "code",
   "execution_count": 4,
   "metadata": {},
   "outputs": [],
   "source": [
    "#Parsing xml files\n",
    "module=[]\n",
    "questions = []\n",
    "reference_answer=[]\n",
    "student_answer={}\n",
    "question_id=[]\n",
    "for i, file in enumerate(xml_files):\n",
    "    tree = ET.parse(file)\n",
    "    root = tree.getroot()\n",
    "    question_id.append(root.get('id'))\n",
    "    module.append(root.get('module'))\n",
    "    for chld in root:\n",
    "        if chld.tag=='questionText':\n",
    "            questions.append(chld.text)\n",
    "        elif chld.tag=='referenceAnswers':\n",
    "            for attr in chld:\n",
    "                reference_answer.append(attr.text)\n",
    "        elif chld.tag=='studentAnswers':\n",
    "            for attr in chld:\n",
    "                student_answer[i]= student_answer.get(i,[])+[(attr.text, attr.get('accuracy'))]"
   ]
  },
  {
   "cell_type": "code",
   "execution_count": 25,
   "metadata": {},
   "outputs": [
    {
     "name": "stdout",
     "output_type": "stream",
     "text": [
      "36 36 36 36 36 36 36 36 35 36 36 35 36 36 36 36 36 36 36 35 36 36 34 35 36 36 36 36 34 35 36 36 36 36 36 36 36 36 36 34 36 32 36 36 36 36 36 36 35 36 36 35 35 36 36 36 38 36 36 38 36 36 39 36 36 36 36 36 36 36 32 36 31 36 36 34 35 36 36 35 36 36 36 33 35 35 35 34 36 34 104 107 49 36 36 35 35 36 35 36 36 36 36 36 36 36 36 35 36 36 36 36 36 36 36 36 34 35 34 36 36 36 36 36 36 37 35 36 36 36 36 36 36 36 36 "
     ]
    }
   ],
   "source": [
    "#Checking if each question has same number of student answers\n",
    "for i in student_answer:\n",
    "    print(len(student_answer[i]),end=\" \")"
   ]
  },
  {
   "cell_type": "code",
   "execution_count": 5,
   "metadata": {
    "collapsed": true
   },
   "outputs": [],
   "source": [
    "def shuffle_data(X,seed=0):\n",
    "    random.seed(seed)\n",
    "    return random.sample(X,len(X)) \n",
    "    \n",
    "\n",
    "def get_DataFrame(split=0.15, shuffle=False,seed=0,dataset='complete'):\n",
    "    '''This function creates dataframe for xml data. Due to the nature of data \n",
    "       it will require a custom train test split function. This function accepts arguments\n",
    "       of split,shuffle, seed and dataset to to create train and test dataframes as well.\n",
    "       The dataframe will repeate question and reference answers but will have unique \n",
    "       student answer.For a single question, the funtion shuffles student answers before\n",
    "       spliting into train test data.'''  \n",
    "    \n",
    "    data_dict={}\n",
    "    #Creating a Dataframe\n",
    "    key=0\n",
    "    for i in range(len(questions)):\n",
    "        #Calculating start and end points for student answers\n",
    "        size = int((1-split)*len(student_answer[i]))\n",
    "        if dataset =='train':\n",
    "            start = 0\n",
    "            end = size+1\n",
    "        elif dataset =='test':\n",
    "            start = size+1\n",
    "            end = None\n",
    "        else:\n",
    "            start=0\n",
    "            end= None\n",
    "        \n",
    "        #Shuffle student answers for each question      \n",
    "        if shuffle:\n",
    "            temp_student_answer = shuffle_data(student_answer[i], seed)\n",
    "        else:\n",
    "            temp_student_answer = student_answer[i]\n",
    "        #Create a Dictionary for each row     \n",
    "        for j in temp_student_answer[start:end]:\n",
    "            data_dict[key]=[i, module[i], question_id[i], questions[i], reference_answer[i], j[0], j[1]]\n",
    "            key +=1\n",
    "    data_df=pd.DataFrame.from_dict(data_dict, orient='index',\n",
    "                                   columns=['QuestionNumber','Module','QuestionID','Questions',\n",
    "                                            'ReferenceAnswer','StudentAnswer','Accuracy'])\n",
    "    return data_df"
   ]
  },
  {
   "cell_type": "markdown",
   "metadata": {},
   "source": [
    "# EDA"
   ]
  },
  {
   "cell_type": "code",
   "execution_count": 6,
   "metadata": {},
   "outputs": [
    {
     "data": {
      "text/html": [
       "<div>\n",
       "<style scoped>\n",
       "    .dataframe tbody tr th:only-of-type {\n",
       "        vertical-align: middle;\n",
       "    }\n",
       "\n",
       "    .dataframe tbody tr th {\n",
       "        vertical-align: top;\n",
       "    }\n",
       "\n",
       "    .dataframe thead th {\n",
       "        text-align: right;\n",
       "    }\n",
       "</style>\n",
       "<table border=\"1\" class=\"dataframe\">\n",
       "  <thead>\n",
       "    <tr style=\"text-align: right;\">\n",
       "      <th></th>\n",
       "      <th>QuestionNumber</th>\n",
       "      <th>Module</th>\n",
       "      <th>QuestionID</th>\n",
       "      <th>Questions</th>\n",
       "      <th>ReferenceAnswer</th>\n",
       "      <th>StudentAnswer</th>\n",
       "      <th>Accuracy</th>\n",
       "    </tr>\n",
       "  </thead>\n",
       "  <tbody>\n",
       "    <tr>\n",
       "      <th>0</th>\n",
       "      <td>0</td>\n",
       "      <td>EM</td>\n",
       "      <td>EM_45b</td>\n",
       "      <td>You used several methods to separate and ident...</td>\n",
       "      <td>The water was evaporated, leaving the salt.</td>\n",
       "      <td>By letting it sit in a dish for a day.</td>\n",
       "      <td>incorrect</td>\n",
       "    </tr>\n",
       "    <tr>\n",
       "      <th>1</th>\n",
       "      <td>0</td>\n",
       "      <td>EM</td>\n",
       "      <td>EM_45b</td>\n",
       "      <td>You used several methods to separate and ident...</td>\n",
       "      <td>The water was evaporated, leaving the salt.</td>\n",
       "      <td>Let the water evaporate and the salt is left b...</td>\n",
       "      <td>correct</td>\n",
       "    </tr>\n",
       "    <tr>\n",
       "      <th>2</th>\n",
       "      <td>0</td>\n",
       "      <td>EM</td>\n",
       "      <td>EM_45b</td>\n",
       "      <td>You used several methods to separate and ident...</td>\n",
       "      <td>The water was evaporated, leaving the salt.</td>\n",
       "      <td>The water evaporated and left salt crystals.</td>\n",
       "      <td>correct</td>\n",
       "    </tr>\n",
       "    <tr>\n",
       "      <th>3</th>\n",
       "      <td>0</td>\n",
       "      <td>EM</td>\n",
       "      <td>EM_45b</td>\n",
       "      <td>You used several methods to separate and ident...</td>\n",
       "      <td>The water was evaporated, leaving the salt.</td>\n",
       "      <td>I saw a pinkish grayish color that was blockin...</td>\n",
       "      <td>incorrect</td>\n",
       "    </tr>\n",
       "    <tr>\n",
       "      <th>4</th>\n",
       "      <td>0</td>\n",
       "      <td>EM</td>\n",
       "      <td>EM_45b</td>\n",
       "      <td>You used several methods to separate and ident...</td>\n",
       "      <td>The water was evaporated, leaving the salt.</td>\n",
       "      <td>You have to slowly tip the vial for only the w...</td>\n",
       "      <td>incorrect</td>\n",
       "    </tr>\n",
       "  </tbody>\n",
       "</table>\n",
       "</div>"
      ],
      "text/plain": [
       "   QuestionNumber Module QuestionID  \\\n",
       "0               0     EM     EM_45b   \n",
       "1               0     EM     EM_45b   \n",
       "2               0     EM     EM_45b   \n",
       "3               0     EM     EM_45b   \n",
       "4               0     EM     EM_45b   \n",
       "\n",
       "                                           Questions  \\\n",
       "0  You used several methods to separate and ident...   \n",
       "1  You used several methods to separate and ident...   \n",
       "2  You used several methods to separate and ident...   \n",
       "3  You used several methods to separate and ident...   \n",
       "4  You used several methods to separate and ident...   \n",
       "\n",
       "                               ReferenceAnswer  \\\n",
       "0  The water was evaporated, leaving the salt.   \n",
       "1  The water was evaporated, leaving the salt.   \n",
       "2  The water was evaporated, leaving the salt.   \n",
       "3  The water was evaporated, leaving the salt.   \n",
       "4  The water was evaporated, leaving the salt.   \n",
       "\n",
       "                                       StudentAnswer   Accuracy  \n",
       "0             By letting it sit in a dish for a day.  incorrect  \n",
       "1  Let the water evaporate and the salt is left b...    correct  \n",
       "2       The water evaporated and left salt crystals.    correct  \n",
       "3  I saw a pinkish grayish color that was blockin...  incorrect  \n",
       "4  You have to slowly tip the vial for only the w...  incorrect  "
      ]
     },
     "execution_count": 6,
     "metadata": {},
     "output_type": "execute_result"
    }
   ],
   "source": [
    "#Get complete data for EDA\n",
    "data_df=get_DataFrame()\n",
    "data_df.head(5)"
   ]
  },
  {
   "cell_type": "code",
   "execution_count": 8,
   "metadata": {},
   "outputs": [
    {
     "name": "stdout",
     "output_type": "stream",
     "text": [
      "<class 'pandas.core.frame.DataFrame'>\n",
      "Int64Index: 4969 entries, 0 to 4968\n",
      "Data columns (total 7 columns):\n",
      "QuestionNumber     4969 non-null int64\n",
      "Module             4969 non-null object\n",
      "QuestionID         4969 non-null object\n",
      "Questions          4969 non-null object\n",
      "ReferenceAnswer    4969 non-null object\n",
      "StudentAnswer      4969 non-null object\n",
      "Accuracy           4969 non-null object\n",
      "dtypes: int64(1), object(6)\n",
      "memory usage: 310.6+ KB\n"
     ]
    }
   ],
   "source": [
    "data_df.info()"
   ]
  },
  {
   "cell_type": "code",
   "execution_count": 17,
   "metadata": {},
   "outputs": [
    {
     "name": "stdout",
     "output_type": "stream",
     "text": [
      "Module\n",
      "ME    23\n",
      "MX    20\n",
      "SE    15\n",
      "EM    12\n",
      "VB    11\n",
      "PS    11\n",
      "LF    11\n",
      "FN     9\n",
      "ST     8\n",
      "MS     7\n",
      "II     6\n",
      "LP     2\n",
      "Name: QuestionNumber, dtype: int64\n"
     ]
    },
    {
     "data": {
      "text/plain": [
       "<matplotlib.axes._subplots.AxesSubplot at 0x2da18e20da0>"
      ]
     },
     "execution_count": 17,
     "metadata": {},
     "output_type": "execute_result"
    },
    {
     "data": {
      "image/png": "[encoded data removed]",
      "text/plain": [
       "<Figure size 1080x432 with 1 Axes>"
      ]
     },
     "metadata": {},
     "output_type": "display_data"
    }
   ],
   "source": [
    "##Checking questions per module\n",
    "module_freq = data_df.groupby('Module')['QuestionNumber'].nunique().sort_values(ascending=False)\n",
    "print(module_freq)\n",
    "module_freq.plot(kind='bar',figsize=(15,6))"
   ]
  },
  {
   "cell_type": "markdown",
   "metadata": {},
   "source": [
    "Each module has different number of questions, but each question has different number of student answers."
   ]
  },
  {
   "cell_type": "code",
   "execution_count": 18,
   "metadata": {},
   "outputs": [
    {
     "name": "stdout",
     "output_type": "stream",
     "text": [
      "ME    828\n",
      "MX    697\n",
      "PS    545\n",
      "SE    539\n",
      "EM    430\n",
      "VB    396\n",
      "LF    393\n",
      "FN    323\n",
      "ST    283\n",
      "MS    252\n",
      "II    213\n",
      "LP     70\n",
      "Name: Module, dtype: int64\n"
     ]
    },
    {
     "data": {
      "text/plain": [
       "<matplotlib.axes._subplots.AxesSubplot at 0x2da18e532e8>"
      ]
     },
     "execution_count": 18,
     "metadata": {},
     "output_type": "execute_result"
    },
    {
     "data": {
      "image/png": "[encoded data removed]",
      "text/plain": [
       "<Figure size 1080x432 with 1 Axes>"
      ]
     },
     "metadata": {},
     "output_type": "display_data"
    }
   ],
   "source": [
    "#Student answers per module\n",
    "print(data_df.Module.value_counts())\n",
    "data_df.Module.value_counts().sort_values(ascending=False).plot(kind='bar',figsize=(15,6))"
   ]
  },
  {
   "cell_type": "code",
   "execution_count": 21,
   "metadata": {},
   "outputs": [
    {
     "name": "stdout",
     "output_type": "stream",
     "text": [
      "incorrect    2961\n",
      "correct      2008\n",
      "Name: Accuracy, dtype: int64\n"
     ]
    },
    {
     "data": {
      "text/plain": [
       "<matplotlib.axes._subplots.AxesSubplot at 0x2da18d97320>"
      ]
     },
     "execution_count": 21,
     "metadata": {},
     "output_type": "execute_result"
    },
    {
     "data": {
      "image/png": "[encoded data removed]",
      "text/plain": [
       "<Figure size 432x432 with 1 Axes>"
      ]
     },
     "metadata": {},
     "output_type": "display_data"
    }
   ],
   "source": [
    "#Target variable distribution\n",
    "counts = data_df.Accuracy.value_counts()\n",
    "print(counts)\n",
    "counts.plot(kind='pie',autopct='%1.1f%%',figsize=(6,6))"
   ]
  },
  {
   "cell_type": "markdown",
   "metadata": {},
   "source": [
    "We can check if a perticular module is more difficult than others, from the accuracy of student answers. If students are making more mistakes for a perticular module, one of the possibility might be that the module is difficult compared to others."
   ]
  },
  {
   "cell_type": "code",
   "execution_count": 26,
   "metadata": {},
   "outputs": [
    {
     "data": {
      "text/plain": [
       "<matplotlib.axes._subplots.AxesSubplot at 0x2da18e84e10>"
      ]
     },
     "execution_count": 26,
     "metadata": {},
     "output_type": "execute_result"
    },
    {
     "data": {
      "image/png": "[encoded data removed]",
      "text/plain": [
       "<Figure size 1080x432 with 1 Axes>"
      ]
     },
     "metadata": {},
     "output_type": "display_data"
    }
   ],
   "source": [
    "###Checking module difficulty\n",
    "ans_dist_per_module_df = data_df.groupby('Module')['Accuracy'].value_counts().unstack(level=-1)\n",
    "ans_dist_per_module_df['correct(%)']=(ans_dist_per_module_df['correct']/(ans_dist_per_module_df['correct']+\n",
    "                       ans_dist_per_module_df['incorrect']))\n",
    "ans_dist_per_module_df['incorrect(%)']=(ans_dist_per_module_df['incorrect']/(ans_dist_per_module_df['correct']+\n",
    "                       ans_dist_per_module_df['incorrect']))\n",
    "ans_dist_per_module_df[['incorrect(%)','correct(%)']].sort_values(by='correct(%)',\n",
    "                                   ascending=False).plot(kind='bar',figsize=(15,6))"
   ]
  },
  {
   "cell_type": "markdown",
   "metadata": {},
   "source": [
    "Similar logic can be used to check questions difficulty"
   ]
  },
  {
   "cell_type": "code",
   "execution_count": 31,
   "metadata": {},
   "outputs": [
    {
     "data": {
      "text/plain": [
       "<matplotlib.axes._subplots.AxesSubplot at 0x2da19acef28>"
      ]
     },
     "execution_count": 31,
     "metadata": {},
     "output_type": "execute_result"
    },
    {
     "data": {
      "image/png": "[encoded data removed]",
      "text/plain": [
       "<Figure size 2880x864 with 1 Axes>"
      ]
     },
     "metadata": {},
     "output_type": "display_data"
    }
   ],
   "source": [
    "###Checking question difficulty\n",
    "ans_dist_per_question_df = data_df.groupby('Questions')['Accuracy'].value_counts().unstack(level=-1)\n",
    "ans_dist_per_question_df['correct(%)']=(ans_dist_per_question_df['correct']/(ans_dist_per_question_df['correct']+\n",
    "                         ans_dist_per_question_df['incorrect']))\n",
    "ans_dist_per_question_df['incorrect(%)']=(ans_dist_per_question_df['incorrect']/(ans_dist_per_question_df['correct']+\n",
    "                         ans_dist_per_question_df['incorrect']))\n",
    "ans_dist_per_question_df = ans_dist_per_question_df.reset_index()\n",
    "ans_dist_per_question_df[['incorrect(%)','correct(%)']].sort_values(by='correct(%)',\n",
    "                                     ascending=True).plot(kind='bar',figsize=(40,12))"
   ]
  },
  {
   "cell_type": "code",
   "execution_count": 33,
   "metadata": {},
   "outputs": [
    {
     "data": {
      "text/plain": [
       "<matplotlib.axes._subplots.AxesSubplot at 0x2da1b655e80>"
      ]
     },
     "execution_count": 33,
     "metadata": {},
     "output_type": "execute_result"
    },
    {
     "data": {
      "image/png": "[encoded data removed]",
      "text/plain": [
       "<Figure size 576x2880 with 1 Axes>"
      ]
     },
     "metadata": {},
     "output_type": "display_data"
    }
   ],
   "source": [
    "ans_dist_per_question_df[['incorrect(%)','correct(%)']].sort_values(by='correct(%)',\n",
    "                                     ascending=True).plot(kind='barh',figsize=(8,40))"
   ]
  },
  {
   "cell_type": "markdown",
   "metadata": {},
   "source": [
    "We can clearly see a pattern in these plots. Question number 96 seems to be a very difficult question"
   ]
  },
  {
   "cell_type": "markdown",
   "metadata": {},
   "source": [
    "I think we all have heard that, when students don't know the answers they write anything just to fill the space; even if the actual answer is short. That means, it is possible to have a higher word count for incorrect answers. Let's check if the myth is true by taking the ratio of student answer word count to that of a reference answer word count. "
   ]
  },
  {
   "cell_type": "code",
   "execution_count": 34,
   "metadata": {
    "collapsed": true
   },
   "outputs": [],
   "source": [
    "def tokenize(text, isStopWord=False, return_string=False):\n",
    "    ''' Text cleaning. \n",
    "    input:\n",
    "        text: string to be cleaned\n",
    "    parameters:\n",
    "        isStopWord:True to remove stopword while tokenizing(Default:False)\n",
    "        return_string: True to return tokens in a string instead of separate words\n",
    "                       (Default:False)\n",
    "    Return:\n",
    "        Tokenized words or string'''\n",
    "    if isStopWord:\n",
    "        stop = stopwords.words('english') + list(string.punctuation)+['``',\"''\"]\n",
    "    else:\n",
    "        stop = list(string.punctuation)+ ['``',\"''\"]\n",
    "    words = [word for word in word_tokenize(text.lower()) if word not in stop]\n",
    "    if return_string:\n",
    "        words = ' '.join(word for word in words)  \n",
    "    return words\n",
    "\n",
    "def get_words(df, isStopWord=False, return_string=False):\n",
    "    '''This function accepts dataframe to create word tokens for question,\n",
    "       referenceAnswer and studentAnswer columns.\n",
    "     Parameters\n",
    "        isStopWord: True to remove stopword while tokenizing(Default:False)\n",
    "        return_string: True to return tokens in a string instead of separate words\n",
    "                       (Default:False)\n",
    "     Return:\n",
    "        Dataframe with word tokens'''\n",
    "        \n",
    "    df['Question_words'] = df['Questions'].apply(lambda x: tokenize(x, isStopWord,return_string))\n",
    "    df['ReferenceAnswer_words']=df['ReferenceAnswer'].apply(lambda x: tokenize(x, isStopWord,return_string))\n",
    "    df['StudentAnswer_words']=df['StudentAnswer'].apply(lambda x: tokenize(x, isStopWord,return_string))\n",
    "    return df"
   ]
  },
  {
   "cell_type": "code",
   "execution_count": 37,
   "metadata": {},
   "outputs": [
    {
     "data": {
      "text/html": [
       "<div>\n",
       "<style scoped>\n",
       "    .dataframe tbody tr th:only-of-type {\n",
       "        vertical-align: middle;\n",
       "    }\n",
       "\n",
       "    .dataframe tbody tr th {\n",
       "        vertical-align: top;\n",
       "    }\n",
       "\n",
       "    .dataframe thead th {\n",
       "        text-align: right;\n",
       "    }\n",
       "</style>\n",
       "<table border=\"1\" class=\"dataframe\">\n",
       "  <thead>\n",
       "    <tr style=\"text-align: right;\">\n",
       "      <th></th>\n",
       "      <th>QuestionNumber</th>\n",
       "      <th>Module</th>\n",
       "      <th>QuestionID</th>\n",
       "      <th>Questions</th>\n",
       "      <th>ReferenceAnswer</th>\n",
       "      <th>StudentAnswer</th>\n",
       "      <th>Accuracy</th>\n",
       "      <th>Question_words</th>\n",
       "      <th>ReferenceAnswer_words</th>\n",
       "      <th>StudentAnswer_words</th>\n",
       "      <th>ReferenceAnswer_word_count</th>\n",
       "      <th>StudentAnswer_word_count</th>\n",
       "    </tr>\n",
       "  </thead>\n",
       "  <tbody>\n",
       "    <tr>\n",
       "      <th>0</th>\n",
       "      <td>0</td>\n",
       "      <td>EM</td>\n",
       "      <td>EM_45b</td>\n",
       "      <td>You used several methods to separate and ident...</td>\n",
       "      <td>The water was evaporated, leaving the salt.</td>\n",
       "      <td>By letting it sit in a dish for a day.</td>\n",
       "      <td>incorrect</td>\n",
       "      <td>[you, used, several, methods, to, separate, an...</td>\n",
       "      <td>[the, water, was, evaporated, leaving, the, salt]</td>\n",
       "      <td>[by, letting, it, sit, in, a, dish, for, a, day]</td>\n",
       "      <td>7</td>\n",
       "      <td>10</td>\n",
       "    </tr>\n",
       "    <tr>\n",
       "      <th>1</th>\n",
       "      <td>0</td>\n",
       "      <td>EM</td>\n",
       "      <td>EM_45b</td>\n",
       "      <td>You used several methods to separate and ident...</td>\n",
       "      <td>The water was evaporated, leaving the salt.</td>\n",
       "      <td>Let the water evaporate and the salt is left b...</td>\n",
       "      <td>correct</td>\n",
       "      <td>[you, used, several, methods, to, separate, an...</td>\n",
       "      <td>[the, water, was, evaporated, leaving, the, salt]</td>\n",
       "      <td>[let, the, water, evaporate, and, the, salt, i...</td>\n",
       "      <td>7</td>\n",
       "      <td>10</td>\n",
       "    </tr>\n",
       "    <tr>\n",
       "      <th>2</th>\n",
       "      <td>0</td>\n",
       "      <td>EM</td>\n",
       "      <td>EM_45b</td>\n",
       "      <td>You used several methods to separate and ident...</td>\n",
       "      <td>The water was evaporated, leaving the salt.</td>\n",
       "      <td>The water evaporated and left salt crystals.</td>\n",
       "      <td>correct</td>\n",
       "      <td>[you, used, several, methods, to, separate, an...</td>\n",
       "      <td>[the, water, was, evaporated, leaving, the, salt]</td>\n",
       "      <td>[the, water, evaporated, and, left, salt, crys...</td>\n",
       "      <td>7</td>\n",
       "      <td>7</td>\n",
       "    </tr>\n",
       "    <tr>\n",
       "      <th>3</th>\n",
       "      <td>0</td>\n",
       "      <td>EM</td>\n",
       "      <td>EM_45b</td>\n",
       "      <td>You used several methods to separate and ident...</td>\n",
       "      <td>The water was evaporated, leaving the salt.</td>\n",
       "      <td>I saw a pinkish grayish color that was blockin...</td>\n",
       "      <td>incorrect</td>\n",
       "      <td>[you, used, several, methods, to, separate, an...</td>\n",
       "      <td>[the, water, was, evaporated, leaving, the, salt]</td>\n",
       "      <td>[i, saw, a, pinkish, grayish, color, that, was...</td>\n",
       "      <td>7</td>\n",
       "      <td>11</td>\n",
       "    </tr>\n",
       "    <tr>\n",
       "      <th>4</th>\n",
       "      <td>0</td>\n",
       "      <td>EM</td>\n",
       "      <td>EM_45b</td>\n",
       "      <td>You used several methods to separate and ident...</td>\n",
       "      <td>The water was evaporated, leaving the salt.</td>\n",
       "      <td>You have to slowly tip the vial for only the w...</td>\n",
       "      <td>incorrect</td>\n",
       "      <td>[you, used, several, methods, to, separate, an...</td>\n",
       "      <td>[the, water, was, evaporated, leaving, the, salt]</td>\n",
       "      <td>[you, have, to, slowly, tip, the, vial, for, o...</td>\n",
       "      <td>7</td>\n",
       "      <td>13</td>\n",
       "    </tr>\n",
       "  </tbody>\n",
       "</table>\n",
       "</div>"
      ],
      "text/plain": [
       "   QuestionNumber Module QuestionID  \\\n",
       "0               0     EM     EM_45b   \n",
       "1               0     EM     EM_45b   \n",
       "2               0     EM     EM_45b   \n",
       "3               0     EM     EM_45b   \n",
       "4               0     EM     EM_45b   \n",
       "\n",
       "                                           Questions  \\\n",
       "0  You used several methods to separate and ident...   \n",
       "1  You used several methods to separate and ident...   \n",
       "2  You used several methods to separate and ident...   \n",
       "3  You used several methods to separate and ident...   \n",
       "4  You used several methods to separate and ident...   \n",
       "\n",
       "                               ReferenceAnswer  \\\n",
       "0  The water was evaporated, leaving the salt.   \n",
       "1  The water was evaporated, leaving the salt.   \n",
       "2  The water was evaporated, leaving the salt.   \n",
       "3  The water was evaporated, leaving the salt.   \n",
       "4  The water was evaporated, leaving the salt.   \n",
       "\n",
       "                                       StudentAnswer   Accuracy  \\\n",
       "0             By letting it sit in a dish for a day.  incorrect   \n",
       "1  Let the water evaporate and the salt is left b...    correct   \n",
       "2       The water evaporated and left salt crystals.    correct   \n",
       "3  I saw a pinkish grayish color that was blockin...  incorrect   \n",
       "4  You have to slowly tip the vial for only the w...  incorrect   \n",
       "\n",
       "                                      Question_words  \\\n",
       "0  [you, used, several, methods, to, separate, an...   \n",
       "1  [you, used, several, methods, to, separate, an...   \n",
       "2  [you, used, several, methods, to, separate, an...   \n",
       "3  [you, used, several, methods, to, separate, an...   \n",
       "4  [you, used, several, methods, to, separate, an...   \n",
       "\n",
       "                               ReferenceAnswer_words  \\\n",
       "0  [the, water, was, evaporated, leaving, the, salt]   \n",
       "1  [the, water, was, evaporated, leaving, the, salt]   \n",
       "2  [the, water, was, evaporated, leaving, the, salt]   \n",
       "3  [the, water, was, evaporated, leaving, the, salt]   \n",
       "4  [the, water, was, evaporated, leaving, the, salt]   \n",
       "\n",
       "                                 StudentAnswer_words  \\\n",
       "0   [by, letting, it, sit, in, a, dish, for, a, day]   \n",
       "1  [let, the, water, evaporate, and, the, salt, i...   \n",
       "2  [the, water, evaporated, and, left, salt, crys...   \n",
       "3  [i, saw, a, pinkish, grayish, color, that, was...   \n",
       "4  [you, have, to, slowly, tip, the, vial, for, o...   \n",
       "\n",
       "   ReferenceAnswer_word_count  StudentAnswer_word_count  \n",
       "0                           7                        10  \n",
       "1                           7                        10  \n",
       "2                           7                         7  \n",
       "3                           7                        11  \n",
       "4                           7                        13  "
      ]
     },
     "execution_count": 37,
     "metadata": {},
     "output_type": "execute_result"
    }
   ],
   "source": [
    "#Getting dataframe with words and counts after punctuation\n",
    "data_df=get_words(data_df)\n",
    "data_df['ReferenceAnswer_word_count']=data_df['ReferenceAnswer_words'].apply(len)\n",
    "data_df['StudentAnswer_word_count']=data_df['StudentAnswer_words'].apply(len)\n",
    "data_df.head(5)"
   ]
  },
  {
   "cell_type": "markdown",
   "metadata": {},
   "source": [
    "Since we know the reference answer, we can also check if there is any verbal yes/no question. "
   ]
  },
  {
   "cell_type": "code",
   "execution_count": 38,
   "metadata": {},
   "outputs": [
    {
     "data": {
      "text/plain": [
       "4"
      ]
     },
     "execution_count": 38,
     "metadata": {},
     "output_type": "execute_result"
    }
   ],
   "source": [
    "data_df['ReferenceAnswer_word_count'].min()"
   ]
  },
  {
   "cell_type": "markdown",
   "metadata": {},
   "source": [
    "Since minimum word count of reference answer is 4, I think it is safe to say that there are no verbal questions"
   ]
  },
  {
   "cell_type": "code",
   "execution_count": 40,
   "metadata": {},
   "outputs": [
    {
     "data": {
      "text/plain": [
       "<matplotlib.axes._subplots.AxesSubplot at 0x2da1f7a7048>"
      ]
     },
     "execution_count": 40,
     "metadata": {},
     "output_type": "execute_result"
    },
    {
     "data": {
      "image/png": "[encoded data removed]",
      "text/plain": [
       "<Figure size 432x288 with 1 Axes>"
      ]
     },
     "metadata": {},
     "output_type": "display_data"
    }
   ],
   "source": [
    "data_df['Student/Reference_word_count']=(data_df['StudentAnswer_word_count']/data_df['ReferenceAnswer_word_count'])\n",
    "data_df.groupby('Accuracy')['Student/Reference_word_count'].mean().plot(kind='bar')"
   ]
  },
  {
   "cell_type": "markdown",
   "metadata": {},
   "source": [
    "Correct answers on average has a same word count as reference answer. It was just a myth afterall. Let's check actual distribution. "
   ]
  },
  {
   "cell_type": "code",
   "execution_count": 44,
   "metadata": {},
   "outputs": [
    {
     "data": {
      "text/plain": [
       "<matplotlib.axes._subplots.AxesSubplot at 0x2da1e6a6be0>"
      ]
     },
     "execution_count": 44,
     "metadata": {},
     "output_type": "execute_result"
    },
    {
     "data": {
      "image/png": "[encoded data removed]",
      "text/plain": [
       "<Figure size 864x432 with 1 Axes>"
      ]
     },
     "metadata": {},
     "output_type": "display_data"
    }
   ],
   "source": [
    "data_df.loc[data_df['Accuracy'] == 'correct','Student/Reference_word_count'].plot(kind='hist',bins=50,alpha=0.7,figsize=(12,6))"
   ]
  },
  {
   "cell_type": "code",
   "execution_count": 45,
   "metadata": {},
   "outputs": [
    {
     "data": {
      "text/plain": [
       "<matplotlib.axes._subplots.AxesSubplot at 0x2da1e783b00>"
      ]
     },
     "execution_count": 45,
     "metadata": {},
     "output_type": "execute_result"
    },
    {
     "data": {
      "image/png": "[encoded data removed]",
      "text/plain": [
       "<Figure size 864x432 with 1 Axes>"
      ]
     },
     "metadata": {},
     "output_type": "display_data"
    }
   ],
   "source": [
    "data_df.loc[data_df['Accuracy'] == 'incorrect','Student/Reference_word_count'].plot(kind='hist',bins=50,alpha=0.7,figsize=(12,6))"
   ]
  },
  {
   "cell_type": "code",
   "execution_count": 46,
   "metadata": {},
   "outputs": [
    {
     "data": {
      "text/plain": [
       "<matplotlib.axes._subplots.AxesSubplot at 0x2da1e835ba8>"
      ]
     },
     "execution_count": 46,
     "metadata": {},
     "output_type": "execute_result"
    },
    {
     "data": {
      "image/png": "[encoded data removed]",
      "text/plain": [
       "<Figure size 864x432 with 1 Axes>"
      ]
     },
     "metadata": {},
     "output_type": "display_data"
    }
   ],
   "source": [
    "data_df.loc[data_df['Accuracy'] == 'correct','Student/Reference_word_count'].plot(kind='hist',bins=50,alpha=0.7,figsize=(12,6))\n",
    "data_df.loc[data_df['Accuracy'] == 'incorrect','Student/Reference_word_count'].plot(kind='hist',bins=50,alpha=0.5,figsize=(12,6))"
   ]
  },
  {
   "cell_type": "markdown",
   "metadata": {},
   "source": [
    "# Model Training"
   ]
  },
  {
   "cell_type": "markdown",
   "metadata": {},
   "source": [
    "## Simple approach with BoW  "
   ]
  },
  {
   "cell_type": "code",
   "execution_count": 50,
   "metadata": {
    "collapsed": true
   },
   "outputs": [],
   "source": [
    "from sklearn.linear_model import LogisticRegression\n",
    "from sklearn.linear_model import SGDClassifier\n",
    "from sklearn.naive_bayes import BernoulliNB\n",
    "from sklearn.neighbors import KNeighborsClassifier\n",
    "from sklearn.svm import SVC\n",
    "from sklearn.ensemble import GradientBoostingClassifier\n",
    "from sklearn.ensemble import RandomForestClassifier\n",
    "from sklearn.neural_network import MLPClassifier\n",
    "from sklearn.pipeline import Pipeline\n",
    "from sklearn.feature_extraction.text import TfidfTransformer\n",
    "from sklearn.feature_extraction.text import CountVectorizer\n",
    "from sklearn.model_selection import KFold\n",
    "from sklearn.model_selection import cross_val_score"
   ]
  },
  {
   "cell_type": "code",
   "execution_count": 92,
   "metadata": {
    "collapsed": true
   },
   "outputs": [],
   "source": [
    "def get_model():\n",
    "    '''Getting all models to get a baseline performance'''\n",
    "    models = []\n",
    "    models.append(('LR' , LogisticRegression(solver='liblinear')))\n",
    "    models.append(('KNN', KNeighborsClassifier()))\n",
    "    models.append(('NB-Bernoulli', BernoulliNB()))\n",
    "    models.append(('SGD' , SGDClassifier(max_iter=5, tol=None)))\n",
    "    models.append(('SVM', SVC(probability=True, gamma='auto')))\n",
    "    models.append(('GBC', GradientBoostingClassifier()))\n",
    "    models.append(('RF' , RandomForestClassifier(n_estimators=100)))\n",
    "    models.append(('MLP', MLPClassifier(max_iter=500)))\n",
    "    return models"
   ]
  },
  {
   "cell_type": "code",
   "execution_count": 62,
   "metadata": {
    "collapsed": true
   },
   "outputs": [],
   "source": [
    "def get_baseline_performanceCV(X,y,models,ngram=(1,1),seed=0):\n",
    "    '''Getting baseline performance using CountVectorizer with 10-fold cross-validation\n",
    "       for given models'''\n",
    "    num_folds=10\n",
    "    scoring = 'accuracy'\n",
    "    results = []\n",
    "    names = []\n",
    "    for name, model in models:\n",
    "        pipe_model=Pipeline([('vect', CountVectorizer(ngram_range=ngram)),\n",
    "                             ('clf', model)])\n",
    "        kfold = KFold(n_splits=num_folds, random_state=seed)\n",
    "        cv_results = cross_val_score(pipe_model, X, y, cv=kfold, scoring=scoring)\n",
    "        results.append(cv_results)\n",
    "        names.append(name)\n",
    "        print('{}: {:.4} ({:.4})'.format(name, cv_results.mean(), cv_results.std()))\n",
    "    return names, results"
   ]
  },
  {
   "cell_type": "code",
   "execution_count": 52,
   "metadata": {
    "collapsed": true
   },
   "outputs": [],
   "source": [
    "def combine_question_student_answer(df):\n",
    "    '''Joining questions and student answers with a separating token in between'''\n",
    "    return df['Question_words']+ ' </q> ' + df['StudentAnswer_words']"
   ]
  },
  {
   "cell_type": "code",
   "execution_count": 88,
   "metadata": {},
   "outputs": [
    {
     "data": {
      "text/html": [
       "<div>\n",
       "<style scoped>\n",
       "    .dataframe tbody tr th:only-of-type {\n",
       "        vertical-align: middle;\n",
       "    }\n",
       "\n",
       "    .dataframe tbody tr th {\n",
       "        vertical-align: top;\n",
       "    }\n",
       "\n",
       "    .dataframe thead th {\n",
       "        text-align: right;\n",
       "    }\n",
       "</style>\n",
       "<table border=\"1\" class=\"dataframe\">\n",
       "  <thead>\n",
       "    <tr style=\"text-align: right;\">\n",
       "      <th></th>\n",
       "      <th>QuestionNumber</th>\n",
       "      <th>Module</th>\n",
       "      <th>QuestionID</th>\n",
       "      <th>Questions</th>\n",
       "      <th>ReferenceAnswer</th>\n",
       "      <th>StudentAnswer</th>\n",
       "      <th>Accuracy</th>\n",
       "      <th>Question_words</th>\n",
       "      <th>ReferenceAnswer_words</th>\n",
       "      <th>StudentAnswer_words</th>\n",
       "    </tr>\n",
       "  </thead>\n",
       "  <tbody>\n",
       "    <tr>\n",
       "      <th>0</th>\n",
       "      <td>0</td>\n",
       "      <td>EM</td>\n",
       "      <td>EM_45b</td>\n",
       "      <td>You used several methods to separate and ident...</td>\n",
       "      <td>The water was evaporated, leaving the salt.</td>\n",
       "      <td>By letting it sit in a dish for a day.</td>\n",
       "      <td>incorrect</td>\n",
       "      <td>used several methods separate identify substan...</td>\n",
       "      <td>water evaporated leaving salt</td>\n",
       "      <td>letting sit dish day</td>\n",
       "    </tr>\n",
       "    <tr>\n",
       "      <th>1</th>\n",
       "      <td>0</td>\n",
       "      <td>EM</td>\n",
       "      <td>EM_45b</td>\n",
       "      <td>You used several methods to separate and ident...</td>\n",
       "      <td>The water was evaporated, leaving the salt.</td>\n",
       "      <td>Let the water evaporate and the salt is left b...</td>\n",
       "      <td>correct</td>\n",
       "      <td>used several methods separate identify substan...</td>\n",
       "      <td>water evaporated leaving salt</td>\n",
       "      <td>let water evaporate salt left behind</td>\n",
       "    </tr>\n",
       "    <tr>\n",
       "      <th>2</th>\n",
       "      <td>0</td>\n",
       "      <td>EM</td>\n",
       "      <td>EM_45b</td>\n",
       "      <td>You used several methods to separate and ident...</td>\n",
       "      <td>The water was evaporated, leaving the salt.</td>\n",
       "      <td>The water evaporated and left salt crystals.</td>\n",
       "      <td>correct</td>\n",
       "      <td>used several methods separate identify substan...</td>\n",
       "      <td>water evaporated leaving salt</td>\n",
       "      <td>water evaporated left salt crystals</td>\n",
       "    </tr>\n",
       "    <tr>\n",
       "      <th>3</th>\n",
       "      <td>0</td>\n",
       "      <td>EM</td>\n",
       "      <td>EM_45b</td>\n",
       "      <td>You used several methods to separate and ident...</td>\n",
       "      <td>The water was evaporated, leaving the salt.</td>\n",
       "      <td>I saw a pinkish grayish color that was blockin...</td>\n",
       "      <td>incorrect</td>\n",
       "      <td>used several methods separate identify substan...</td>\n",
       "      <td>water evaporated leaving salt</td>\n",
       "      <td>saw pinkish grayish color blocking water</td>\n",
       "    </tr>\n",
       "    <tr>\n",
       "      <th>4</th>\n",
       "      <td>0</td>\n",
       "      <td>EM</td>\n",
       "      <td>EM_45b</td>\n",
       "      <td>You used several methods to separate and ident...</td>\n",
       "      <td>The water was evaporated, leaving the salt.</td>\n",
       "      <td>You have to slowly tip the vial for only the w...</td>\n",
       "      <td>incorrect</td>\n",
       "      <td>used several methods separate identify substan...</td>\n",
       "      <td>water evaporated leaving salt</td>\n",
       "      <td>slowly tip vial water go</td>\n",
       "    </tr>\n",
       "  </tbody>\n",
       "</table>\n",
       "</div>"
      ],
      "text/plain": [
       "   QuestionNumber Module QuestionID  \\\n",
       "0               0     EM     EM_45b   \n",
       "1               0     EM     EM_45b   \n",
       "2               0     EM     EM_45b   \n",
       "3               0     EM     EM_45b   \n",
       "4               0     EM     EM_45b   \n",
       "\n",
       "                                           Questions  \\\n",
       "0  You used several methods to separate and ident...   \n",
       "1  You used several methods to separate and ident...   \n",
       "2  You used several methods to separate and ident...   \n",
       "3  You used several methods to separate and ident...   \n",
       "4  You used several methods to separate and ident...   \n",
       "\n",
       "                               ReferenceAnswer  \\\n",
       "0  The water was evaporated, leaving the salt.   \n",
       "1  The water was evaporated, leaving the salt.   \n",
       "2  The water was evaporated, leaving the salt.   \n",
       "3  The water was evaporated, leaving the salt.   \n",
       "4  The water was evaporated, leaving the salt.   \n",
       "\n",
       "                                       StudentAnswer   Accuracy  \\\n",
       "0             By letting it sit in a dish for a day.  incorrect   \n",
       "1  Let the water evaporate and the salt is left b...    correct   \n",
       "2       The water evaporated and left salt crystals.    correct   \n",
       "3  I saw a pinkish grayish color that was blockin...  incorrect   \n",
       "4  You have to slowly tip the vial for only the w...  incorrect   \n",
       "\n",
       "                                      Question_words  \\\n",
       "0  used several methods separate identify substan...   \n",
       "1  used several methods separate identify substan...   \n",
       "2  used several methods separate identify substan...   \n",
       "3  used several methods separate identify substan...   \n",
       "4  used several methods separate identify substan...   \n",
       "\n",
       "           ReferenceAnswer_words                       StudentAnswer_words  \n",
       "0  water evaporated leaving salt                      letting sit dish day  \n",
       "1  water evaporated leaving salt      let water evaporate salt left behind  \n",
       "2  water evaporated leaving salt       water evaporated left salt crystals  \n",
       "3  water evaporated leaving salt  saw pinkish grayish color blocking water  \n",
       "4  water evaporated leaving salt                  slowly tip vial water go  "
      ]
     },
     "execution_count": 88,
     "metadata": {},
     "output_type": "execute_result"
    }
   ],
   "source": [
    "X_df=get_DataFrame()\n",
    "X_df = get_words(X_df, isStopWord=True, return_string=True)\n",
    "X_df.head(5)"
   ]
  },
  {
   "cell_type": "code",
   "execution_count": 89,
   "metadata": {
    "collapsed": true
   },
   "outputs": [],
   "source": [
    "X = X_df.apply(combine_question_student_answer, axis=1)\n",
    "y = X_df['Accuracy']"
   ]
  },
  {
   "cell_type": "code",
   "execution_count": 90,
   "metadata": {},
   "outputs": [
    {
     "data": {
      "text/plain": [
       "0    used several methods separate identify substan...\n",
       "1    used several methods separate identify substan...\n",
       "2    used several methods separate identify substan...\n",
       "3    used several methods separate identify substan...\n",
       "4    used several methods separate identify substan...\n",
       "dtype: object"
      ]
     },
     "execution_count": 90,
     "metadata": {},
     "output_type": "execute_result"
    }
   ],
   "source": [
    "X.head(5)"
   ]
  },
  {
   "cell_type": "code",
   "execution_count": 59,
   "metadata": {},
   "outputs": [
    {
     "name": "stdout",
     "output_type": "stream",
     "text": [
      "LR: 0.5657 (0.06687)\n",
      "KNN: 0.5973 (0.04478)\n",
      "NB-Bernoulli: 0.5969 (0.05001)\n",
      "SGD: 0.5583 (0.071)\n",
      "SVM: 0.6001 (0.07156)\n",
      "GBC: 0.6166 (0.06524)\n",
      "RF: 0.6231 (0.0716)\n",
      "MLP: 0.5762 (0.05646)\n"
     ]
    }
   ],
   "source": [
    "models = get_model()\n",
    "names,results = get_baseline_performanceCV(X, y,models)  "
   ]
  },
  {
   "cell_type": "markdown",
   "metadata": {},
   "source": [
    "Clearly this is a very poor performance. Even if we predict all answers as incorrect we will get 0.596 accuracy. So far the RandomForest is showing the best performance. Let's try with biagram to see if we can get better performance"
   ]
  },
  {
   "cell_type": "code",
   "execution_count": 61,
   "metadata": {},
   "outputs": [
    {
     "name": "stdout",
     "output_type": "stream",
     "text": [
      "LR: 0.6027 (0.06933)\n",
      "KNN: 0.6062 (0.06209)\n",
      "NB-Bernoulli: 0.6074 (0.06988)\n",
      "SGD: 0.5804 (0.07527)\n",
      "SVM: 0.5959 (0.0643)\n",
      "GBC: 0.6035 (0.06484)\n",
      "RF: 0.6092 (0.06399)\n",
      "MLP: 0.587 (0.06559)\n"
     ]
    }
   ],
   "source": [
    "names,results = get_baseline_performanceCV(X, y,models,ngram=(2,2)) "
   ]
  },
  {
   "cell_type": "markdown",
   "metadata": {},
   "source": [
    "The RandomForest still has the best performance but it is worse than unigram model. Let's check if TF-IDF vecors can improve performance"
   ]
  },
  {
   "cell_type": "code",
   "execution_count": 91,
   "metadata": {
    "collapsed": true
   },
   "outputs": [],
   "source": [
    "def get_baseline_performanceTV(X,y,models,ngram=(1,1),seed=0):\n",
    "    '''Getting baseline performance using TF-IDF Vector with 10-fold cross-validation\n",
    "       for given models'''\n",
    "    num_folds=10\n",
    "    scoring = 'accuracy'\n",
    "    results = []\n",
    "    names = []\n",
    "    for name, model in models:\n",
    "        pipe_model=Pipeline([('vect', CountVectorizer(ngram_range=ngram)),\n",
    "                             ('tfidf', TfidfTransformer()),\n",
    "                             ('clf', model)])\n",
    "        kfold = KFold(n_splits=num_folds, random_state=seed)\n",
    "        cv_results = cross_val_score(pipe_model, X, y, cv=kfold, scoring=scoring)\n",
    "        results.append(cv_results)\n",
    "        names.append(name)\n",
    "        print('{}: {:.4} ({:.4})'.format(name, cv_results.mean(), cv_results.std()))\n",
    "    return names, results"
   ]
  },
  {
   "cell_type": "code",
   "execution_count": 93,
   "metadata": {},
   "outputs": [
    {
     "name": "stdout",
     "output_type": "stream",
     "text": [
      "LR: 0.608 (0.05791)\n",
      "KNN: 0.5768 (0.06727)\n",
      "NB-Bernoulli: 0.5969 (0.05001)\n",
      "SGD: 0.5903 (0.06127)\n",
      "SVM: 0.5959 (0.0643)\n",
      "GBC: 0.6112 (0.07229)\n",
      "RF: 0.5977 (0.05402)\n",
      "MLP: 0.5566 (0.0599)\n"
     ]
    }
   ],
   "source": [
    "models = get_model()\n",
    "names,results = get_baseline_performanceTV(X, y,models)  "
   ]
  },
  {
   "cell_type": "markdown",
   "metadata": {},
   "source": [
    "Here, GradientBoosting has the best performance but it is still less than the RandomForest with unigram CountVectorizer."
   ]
  },
  {
   "cell_type": "markdown",
   "metadata": {},
   "source": [
    "##  Similarity approach"
   ]
  },
  {
   "cell_type": "markdown",
   "metadata": {},
   "source": [
    "Bag-of-Words(BoW) is a very crude appraoch, especially in this task. It fails to cature a semantic relationships between the question and answer. A more sutaible appraoch for this problem would be to find a lexical or semantic relation between the given triplet."
   ]
  },
  {
   "cell_type": "markdown",
   "metadata": {},
   "source": [
    "### Jaccard Similarity"
   ]
  },
  {
   "cell_type": "code",
   "execution_count": 65,
   "metadata": {
    "collapsed": true
   },
   "outputs": [],
   "source": [
    "def jaccard_similarity(list1, list2):\n",
    "    '''Calculate and returns jaccard similarity between two input lists'''\n",
    "    s1 = set(list1)\n",
    "    s2 = set(list2)\n",
    "    return float(len(s1.intersection(s2))) / float(len(s1.union(s2)))"
   ]
  },
  {
   "cell_type": "code",
   "execution_count": 67,
   "metadata": {},
   "outputs": [
    {
     "data": {
      "text/html": [
       "<div>\n",
       "<style scoped>\n",
       "    .dataframe tbody tr th:only-of-type {\n",
       "        vertical-align: middle;\n",
       "    }\n",
       "\n",
       "    .dataframe tbody tr th {\n",
       "        vertical-align: top;\n",
       "    }\n",
       "\n",
       "    .dataframe thead th {\n",
       "        text-align: right;\n",
       "    }\n",
       "</style>\n",
       "<table border=\"1\" class=\"dataframe\">\n",
       "  <thead>\n",
       "    <tr style=\"text-align: right;\">\n",
       "      <th></th>\n",
       "      <th>QuestionNumber</th>\n",
       "      <th>Module</th>\n",
       "      <th>QuestionID</th>\n",
       "      <th>Questions</th>\n",
       "      <th>ReferenceAnswer</th>\n",
       "      <th>StudentAnswer</th>\n",
       "      <th>Accuracy</th>\n",
       "      <th>Question_words</th>\n",
       "      <th>ReferenceAnswer_words</th>\n",
       "      <th>StudentAnswer_words</th>\n",
       "    </tr>\n",
       "  </thead>\n",
       "  <tbody>\n",
       "    <tr>\n",
       "      <th>0</th>\n",
       "      <td>0</td>\n",
       "      <td>EM</td>\n",
       "      <td>EM_45b</td>\n",
       "      <td>You used several methods to separate and ident...</td>\n",
       "      <td>The water was evaporated, leaving the salt.</td>\n",
       "      <td>By letting it sit in a dish for a day.</td>\n",
       "      <td>incorrect</td>\n",
       "      <td>[used, several, methods, separate, identify, s...</td>\n",
       "      <td>[water, evaporated, leaving, salt]</td>\n",
       "      <td>[letting, sit, dish, day]</td>\n",
       "    </tr>\n",
       "    <tr>\n",
       "      <th>1</th>\n",
       "      <td>0</td>\n",
       "      <td>EM</td>\n",
       "      <td>EM_45b</td>\n",
       "      <td>You used several methods to separate and ident...</td>\n",
       "      <td>The water was evaporated, leaving the salt.</td>\n",
       "      <td>Let the water evaporate and the salt is left b...</td>\n",
       "      <td>correct</td>\n",
       "      <td>[used, several, methods, separate, identify, s...</td>\n",
       "      <td>[water, evaporated, leaving, salt]</td>\n",
       "      <td>[let, water, evaporate, salt, left, behind]</td>\n",
       "    </tr>\n",
       "    <tr>\n",
       "      <th>2</th>\n",
       "      <td>0</td>\n",
       "      <td>EM</td>\n",
       "      <td>EM_45b</td>\n",
       "      <td>You used several methods to separate and ident...</td>\n",
       "      <td>The water was evaporated, leaving the salt.</td>\n",
       "      <td>The water evaporated and left salt crystals.</td>\n",
       "      <td>correct</td>\n",
       "      <td>[used, several, methods, separate, identify, s...</td>\n",
       "      <td>[water, evaporated, leaving, salt]</td>\n",
       "      <td>[water, evaporated, left, salt, crystals]</td>\n",
       "    </tr>\n",
       "    <tr>\n",
       "      <th>3</th>\n",
       "      <td>0</td>\n",
       "      <td>EM</td>\n",
       "      <td>EM_45b</td>\n",
       "      <td>You used several methods to separate and ident...</td>\n",
       "      <td>The water was evaporated, leaving the salt.</td>\n",
       "      <td>I saw a pinkish grayish color that was blockin...</td>\n",
       "      <td>incorrect</td>\n",
       "      <td>[used, several, methods, separate, identify, s...</td>\n",
       "      <td>[water, evaporated, leaving, salt]</td>\n",
       "      <td>[saw, pinkish, grayish, color, blocking, water]</td>\n",
       "    </tr>\n",
       "    <tr>\n",
       "      <th>4</th>\n",
       "      <td>0</td>\n",
       "      <td>EM</td>\n",
       "      <td>EM_45b</td>\n",
       "      <td>You used several methods to separate and ident...</td>\n",
       "      <td>The water was evaporated, leaving the salt.</td>\n",
       "      <td>You have to slowly tip the vial for only the w...</td>\n",
       "      <td>incorrect</td>\n",
       "      <td>[used, several, methods, separate, identify, s...</td>\n",
       "      <td>[water, evaporated, leaving, salt]</td>\n",
       "      <td>[slowly, tip, vial, water, go]</td>\n",
       "    </tr>\n",
       "  </tbody>\n",
       "</table>\n",
       "</div>"
      ],
      "text/plain": [
       "   QuestionNumber Module QuestionID  \\\n",
       "0               0     EM     EM_45b   \n",
       "1               0     EM     EM_45b   \n",
       "2               0     EM     EM_45b   \n",
       "3               0     EM     EM_45b   \n",
       "4               0     EM     EM_45b   \n",
       "\n",
       "                                           Questions  \\\n",
       "0  You used several methods to separate and ident...   \n",
       "1  You used several methods to separate and ident...   \n",
       "2  You used several methods to separate and ident...   \n",
       "3  You used several methods to separate and ident...   \n",
       "4  You used several methods to separate and ident...   \n",
       "\n",
       "                               ReferenceAnswer  \\\n",
       "0  The water was evaporated, leaving the salt.   \n",
       "1  The water was evaporated, leaving the salt.   \n",
       "2  The water was evaporated, leaving the salt.   \n",
       "3  The water was evaporated, leaving the salt.   \n",
       "4  The water was evaporated, leaving the salt.   \n",
       "\n",
       "                                       StudentAnswer   Accuracy  \\\n",
       "0             By letting it sit in a dish for a day.  incorrect   \n",
       "1  Let the water evaporate and the salt is left b...    correct   \n",
       "2       The water evaporated and left salt crystals.    correct   \n",
       "3  I saw a pinkish grayish color that was blockin...  incorrect   \n",
       "4  You have to slowly tip the vial for only the w...  incorrect   \n",
       "\n",
       "                                      Question_words  \\\n",
       "0  [used, several, methods, separate, identify, s...   \n",
       "1  [used, several, methods, separate, identify, s...   \n",
       "2  [used, several, methods, separate, identify, s...   \n",
       "3  [used, several, methods, separate, identify, s...   \n",
       "4  [used, several, methods, separate, identify, s...   \n",
       "\n",
       "                ReferenceAnswer_words  \\\n",
       "0  [water, evaporated, leaving, salt]   \n",
       "1  [water, evaporated, leaving, salt]   \n",
       "2  [water, evaporated, leaving, salt]   \n",
       "3  [water, evaporated, leaving, salt]   \n",
       "4  [water, evaporated, leaving, salt]   \n",
       "\n",
       "                               StudentAnswer_words  \n",
       "0                        [letting, sit, dish, day]  \n",
       "1      [let, water, evaporate, salt, left, behind]  \n",
       "2        [water, evaporated, left, salt, crystals]  \n",
       "3  [saw, pinkish, grayish, color, blocking, water]  \n",
       "4                   [slowly, tip, vial, water, go]  "
      ]
     },
     "execution_count": 67,
     "metadata": {},
     "output_type": "execute_result"
    }
   ],
   "source": [
    "X2_df=get_DataFrame()\n",
    "X2_df = get_words(X2_df, isStopWord=True, return_string=False)\n",
    "X2_df.head(5)"
   ]
  },
  {
   "cell_type": "code",
   "execution_count": 68,
   "metadata": {},
   "outputs": [
    {
     "data": {
      "text/html": [
       "<div>\n",
       "<style scoped>\n",
       "    .dataframe tbody tr th:only-of-type {\n",
       "        vertical-align: middle;\n",
       "    }\n",
       "\n",
       "    .dataframe tbody tr th {\n",
       "        vertical-align: top;\n",
       "    }\n",
       "\n",
       "    .dataframe thead th {\n",
       "        text-align: right;\n",
       "    }\n",
       "</style>\n",
       "<table border=\"1\" class=\"dataframe\">\n",
       "  <thead>\n",
       "    <tr style=\"text-align: right;\">\n",
       "      <th></th>\n",
       "      <th>QuestionNumber</th>\n",
       "      <th>Module</th>\n",
       "      <th>QuestionID</th>\n",
       "      <th>Questions</th>\n",
       "      <th>ReferenceAnswer</th>\n",
       "      <th>StudentAnswer</th>\n",
       "      <th>Accuracy</th>\n",
       "      <th>Question_words</th>\n",
       "      <th>ReferenceAnswer_words</th>\n",
       "      <th>StudentAnswer_words</th>\n",
       "      <th>JS_que_ref</th>\n",
       "      <th>JS_que_stu</th>\n",
       "      <th>JS_ref_stu</th>\n",
       "    </tr>\n",
       "  </thead>\n",
       "  <tbody>\n",
       "    <tr>\n",
       "      <th>0</th>\n",
       "      <td>0</td>\n",
       "      <td>EM</td>\n",
       "      <td>EM_45b</td>\n",
       "      <td>You used several methods to separate and ident...</td>\n",
       "      <td>The water was evaporated, leaving the salt.</td>\n",
       "      <td>By letting it sit in a dish for a day.</td>\n",
       "      <td>incorrect</td>\n",
       "      <td>[used, several, methods, separate, identify, s...</td>\n",
       "      <td>[water, evaporated, leaving, salt]</td>\n",
       "      <td>[letting, sit, dish, day]</td>\n",
       "      <td>0.166667</td>\n",
       "      <td>0.000000</td>\n",
       "      <td>0.000000</td>\n",
       "    </tr>\n",
       "    <tr>\n",
       "      <th>1</th>\n",
       "      <td>0</td>\n",
       "      <td>EM</td>\n",
       "      <td>EM_45b</td>\n",
       "      <td>You used several methods to separate and ident...</td>\n",
       "      <td>The water was evaporated, leaving the salt.</td>\n",
       "      <td>Let the water evaporate and the salt is left b...</td>\n",
       "      <td>correct</td>\n",
       "      <td>[used, several, methods, separate, identify, s...</td>\n",
       "      <td>[water, evaporated, leaving, salt]</td>\n",
       "      <td>[let, water, evaporate, salt, left, behind]</td>\n",
       "      <td>0.166667</td>\n",
       "      <td>0.142857</td>\n",
       "      <td>0.250000</td>\n",
       "    </tr>\n",
       "    <tr>\n",
       "      <th>2</th>\n",
       "      <td>0</td>\n",
       "      <td>EM</td>\n",
       "      <td>EM_45b</td>\n",
       "      <td>You used several methods to separate and ident...</td>\n",
       "      <td>The water was evaporated, leaving the salt.</td>\n",
       "      <td>The water evaporated and left salt crystals.</td>\n",
       "      <td>correct</td>\n",
       "      <td>[used, several, methods, separate, identify, s...</td>\n",
       "      <td>[water, evaporated, leaving, salt]</td>\n",
       "      <td>[water, evaporated, left, salt, crystals]</td>\n",
       "      <td>0.166667</td>\n",
       "      <td>0.153846</td>\n",
       "      <td>0.500000</td>\n",
       "    </tr>\n",
       "    <tr>\n",
       "      <th>3</th>\n",
       "      <td>0</td>\n",
       "      <td>EM</td>\n",
       "      <td>EM_45b</td>\n",
       "      <td>You used several methods to separate and ident...</td>\n",
       "      <td>The water was evaporated, leaving the salt.</td>\n",
       "      <td>I saw a pinkish grayish color that was blockin...</td>\n",
       "      <td>incorrect</td>\n",
       "      <td>[used, several, methods, separate, identify, s...</td>\n",
       "      <td>[water, evaporated, leaving, salt]</td>\n",
       "      <td>[saw, pinkish, grayish, color, blocking, water]</td>\n",
       "      <td>0.166667</td>\n",
       "      <td>0.066667</td>\n",
       "      <td>0.111111</td>\n",
       "    </tr>\n",
       "    <tr>\n",
       "      <th>4</th>\n",
       "      <td>0</td>\n",
       "      <td>EM</td>\n",
       "      <td>EM_45b</td>\n",
       "      <td>You used several methods to separate and ident...</td>\n",
       "      <td>The water was evaporated, leaving the salt.</td>\n",
       "      <td>You have to slowly tip the vial for only the w...</td>\n",
       "      <td>incorrect</td>\n",
       "      <td>[used, several, methods, separate, identify, s...</td>\n",
       "      <td>[water, evaporated, leaving, salt]</td>\n",
       "      <td>[slowly, tip, vial, water, go]</td>\n",
       "      <td>0.166667</td>\n",
       "      <td>0.071429</td>\n",
       "      <td>0.125000</td>\n",
       "    </tr>\n",
       "  </tbody>\n",
       "</table>\n",
       "</div>"
      ],
      "text/plain": [
       "   QuestionNumber Module QuestionID  \\\n",
       "0               0     EM     EM_45b   \n",
       "1               0     EM     EM_45b   \n",
       "2               0     EM     EM_45b   \n",
       "3               0     EM     EM_45b   \n",
       "4               0     EM     EM_45b   \n",
       "\n",
       "                                           Questions  \\\n",
       "0  You used several methods to separate and ident...   \n",
       "1  You used several methods to separate and ident...   \n",
       "2  You used several methods to separate and ident...   \n",
       "3  You used several methods to separate and ident...   \n",
       "4  You used several methods to separate and ident...   \n",
       "\n",
       "                               ReferenceAnswer  \\\n",
       "0  The water was evaporated, leaving the salt.   \n",
       "1  The water was evaporated, leaving the salt.   \n",
       "2  The water was evaporated, leaving the salt.   \n",
       "3  The water was evaporated, leaving the salt.   \n",
       "4  The water was evaporated, leaving the salt.   \n",
       "\n",
       "                                       StudentAnswer   Accuracy  \\\n",
       "0             By letting it sit in a dish for a day.  incorrect   \n",
       "1  Let the water evaporate and the salt is left b...    correct   \n",
       "2       The water evaporated and left salt crystals.    correct   \n",
       "3  I saw a pinkish grayish color that was blockin...  incorrect   \n",
       "4  You have to slowly tip the vial for only the w...  incorrect   \n",
       "\n",
       "                                      Question_words  \\\n",
       "0  [used, several, methods, separate, identify, s...   \n",
       "1  [used, several, methods, separate, identify, s...   \n",
       "2  [used, several, methods, separate, identify, s...   \n",
       "3  [used, several, methods, separate, identify, s...   \n",
       "4  [used, several, methods, separate, identify, s...   \n",
       "\n",
       "                ReferenceAnswer_words  \\\n",
       "0  [water, evaporated, leaving, salt]   \n",
       "1  [water, evaporated, leaving, salt]   \n",
       "2  [water, evaporated, leaving, salt]   \n",
       "3  [water, evaporated, leaving, salt]   \n",
       "4  [water, evaporated, leaving, salt]   \n",
       "\n",
       "                               StudentAnswer_words  JS_que_ref  JS_que_stu  \\\n",
       "0                        [letting, sit, dish, day]    0.166667    0.000000   \n",
       "1      [let, water, evaporate, salt, left, behind]    0.166667    0.142857   \n",
       "2        [water, evaporated, left, salt, crystals]    0.166667    0.153846   \n",
       "3  [saw, pinkish, grayish, color, blocking, water]    0.166667    0.066667   \n",
       "4                   [slowly, tip, vial, water, go]    0.166667    0.071429   \n",
       "\n",
       "   JS_ref_stu  \n",
       "0    0.000000  \n",
       "1    0.250000  \n",
       "2    0.500000  \n",
       "3    0.111111  \n",
       "4    0.125000  "
      ]
     },
     "execution_count": 68,
     "metadata": {},
     "output_type": "execute_result"
    }
   ],
   "source": [
    "X2_df['JS_que_ref']=X2_df.apply(lambda col: jaccard_similarity(col['Question_words'], col['ReferenceAnswer_words']), axis=1)\n",
    "X2_df['JS_que_stu']=X2_df.apply(lambda col: jaccard_similarity(col['Question_words'], col['StudentAnswer_words']), axis=1)\n",
    "X2_df['JS_ref_stu']=X2_df.apply(lambda col: jaccard_similarity(col['ReferenceAnswer_words'], col['StudentAnswer_words']), axis=1)\n",
    "X2_df.head(5)"
   ]
  },
  {
   "cell_type": "code",
   "execution_count": 78,
   "metadata": {},
   "outputs": [
    {
     "data": {
      "text/html": [
       "<div>\n",
       "<style scoped>\n",
       "    .dataframe tbody tr th:only-of-type {\n",
       "        vertical-align: middle;\n",
       "    }\n",
       "\n",
       "    .dataframe tbody tr th {\n",
       "        vertical-align: top;\n",
       "    }\n",
       "\n",
       "    .dataframe thead th {\n",
       "        text-align: right;\n",
       "    }\n",
       "</style>\n",
       "<table border=\"1\" class=\"dataframe\">\n",
       "  <thead>\n",
       "    <tr style=\"text-align: right;\">\n",
       "      <th></th>\n",
       "      <th>JS_que_ref</th>\n",
       "      <th>JS_que_stu</th>\n",
       "      <th>JS_ref_stu</th>\n",
       "    </tr>\n",
       "  </thead>\n",
       "  <tbody>\n",
       "    <tr>\n",
       "      <th>0</th>\n",
       "      <td>0.166667</td>\n",
       "      <td>0.000000</td>\n",
       "      <td>0.000000</td>\n",
       "    </tr>\n",
       "    <tr>\n",
       "      <th>1</th>\n",
       "      <td>0.166667</td>\n",
       "      <td>0.142857</td>\n",
       "      <td>0.250000</td>\n",
       "    </tr>\n",
       "    <tr>\n",
       "      <th>2</th>\n",
       "      <td>0.166667</td>\n",
       "      <td>0.153846</td>\n",
       "      <td>0.500000</td>\n",
       "    </tr>\n",
       "    <tr>\n",
       "      <th>3</th>\n",
       "      <td>0.166667</td>\n",
       "      <td>0.066667</td>\n",
       "      <td>0.111111</td>\n",
       "    </tr>\n",
       "    <tr>\n",
       "      <th>4</th>\n",
       "      <td>0.166667</td>\n",
       "      <td>0.071429</td>\n",
       "      <td>0.125000</td>\n",
       "    </tr>\n",
       "  </tbody>\n",
       "</table>\n",
       "</div>"
      ],
      "text/plain": [
       "   JS_que_ref  JS_que_stu  JS_ref_stu\n",
       "0    0.166667    0.000000    0.000000\n",
       "1    0.166667    0.142857    0.250000\n",
       "2    0.166667    0.153846    0.500000\n",
       "3    0.166667    0.066667    0.111111\n",
       "4    0.166667    0.071429    0.125000"
      ]
     },
     "execution_count": 78,
     "metadata": {},
     "output_type": "execute_result"
    }
   ],
   "source": [
    "X = X2_df.iloc[:,-3:]\n",
    "y = X2_df['Accuracy']\n",
    "X.head(5)"
   ]
  },
  {
   "cell_type": "code",
   "execution_count": 76,
   "metadata": {
    "collapsed": true
   },
   "outputs": [],
   "source": [
    "def get_baseline_performance(X,y,models,seed=0):\n",
    "    num_folds=10\n",
    "    scoring = 'accuracy'\n",
    "    results = []\n",
    "    names = []\n",
    "    for name, model in models:\n",
    "        kfold = KFold(n_splits=num_folds, random_state=seed)\n",
    "        cv_results = cross_val_score(model, X, y, cv=kfold, scoring=scoring)\n",
    "        results.append(cv_results)\n",
    "        names.append(name)\n",
    "        print('{}: {:.4} ({:.4})'.format(name, cv_results.mean(), cv_results.std()))\n",
    "    return names, results"
   ]
  },
  {
   "cell_type": "code",
   "execution_count": 77,
   "metadata": {},
   "outputs": [
    {
     "name": "stdout",
     "output_type": "stream",
     "text": [
      "LR: 0.6673 (0.04056)\n",
      "KNN: 0.6025 (0.03486)\n",
      "NB-Bernoulli: 0.5719 (0.07515)\n",
      "SGD: 0.6613 (0.04407)\n",
      "SVM: 0.6635 (0.0433)\n",
      "GBC: 0.6462 (0.04181)\n",
      "RF: 0.6263 (0.03654)\n",
      "MLP: 0.6669 (0.03684)\n"
     ]
    }
   ],
   "source": [
    "models = get_model()\n",
    "names,results = get_baseline_performance(X, y,models)  "
   ]
  },
  {
   "cell_type": "markdown",
   "metadata": {},
   "source": [
    "As expected this has better results compared to BoW approach. In jaccard similarity, since we are calculating union and intersection of words let's see if lemmatization can improve these results. "
   ]
  },
  {
   "cell_type": "code",
   "execution_count": 79,
   "metadata": {
    "collapsed": true
   },
   "outputs": [],
   "source": [
    "from nltk.stem import WordNetLemmatizer \n",
    "from nltk.corpus import wordnet\n",
    "import nltk"
   ]
  },
  {
   "cell_type": "code",
   "execution_count": 80,
   "metadata": {
    "collapsed": true
   },
   "outputs": [],
   "source": [
    "def get_pos_tag(word):\n",
    "    '''This funtion maps POS tag of a word before lemmatization to get expected results'''\n",
    "    # finding POS tag to first character that lemmatize() accepts   \n",
    "    tag = nltk.pos_tag([word])[0][1][0].upper()\n",
    "    # creating dictionary to map POS\n",
    "    tag_dict = {\"J\": wordnet.ADJ,\n",
    "                \"N\": wordnet.NOUN,\n",
    "                \"V\": wordnet.VERB,\n",
    "                \"R\": wordnet.ADV}\n",
    "    return tag_dict.get(tag, wordnet.NOUN)\n",
    "\n",
    "def lemmatize(words):\n",
    "    '''lemmatize word\n",
    "    input:\n",
    "        words: list of words in a sentence\n",
    "    Returns: \n",
    "        Lemmatized word list'''\n",
    "    lemmatizer = WordNetLemmatizer() \n",
    "    lemma = [lemmatizer.lemmatize(word, get_pos_tag(word)) for word in words]\n",
    "    return lemma"
   ]
  },
  {
   "cell_type": "code",
   "execution_count": 81,
   "metadata": {},
   "outputs": [
    {
     "data": {
      "text/html": [
       "<div>\n",
       "<style scoped>\n",
       "    .dataframe tbody tr th:only-of-type {\n",
       "        vertical-align: middle;\n",
       "    }\n",
       "\n",
       "    .dataframe tbody tr th {\n",
       "        vertical-align: top;\n",
       "    }\n",
       "\n",
       "    .dataframe thead th {\n",
       "        text-align: right;\n",
       "    }\n",
       "</style>\n",
       "<table border=\"1\" class=\"dataframe\">\n",
       "  <thead>\n",
       "    <tr style=\"text-align: right;\">\n",
       "      <th></th>\n",
       "      <th>QuestionNumber</th>\n",
       "      <th>Module</th>\n",
       "      <th>QuestionID</th>\n",
       "      <th>Questions</th>\n",
       "      <th>ReferenceAnswer</th>\n",
       "      <th>StudentAnswer</th>\n",
       "      <th>Accuracy</th>\n",
       "      <th>Question_words</th>\n",
       "      <th>ReferenceAnswer_words</th>\n",
       "      <th>StudentAnswer_words</th>\n",
       "    </tr>\n",
       "  </thead>\n",
       "  <tbody>\n",
       "    <tr>\n",
       "      <th>0</th>\n",
       "      <td>0</td>\n",
       "      <td>EM</td>\n",
       "      <td>EM_45b</td>\n",
       "      <td>You used several methods to separate and ident...</td>\n",
       "      <td>The water was evaporated, leaving the salt.</td>\n",
       "      <td>By letting it sit in a dish for a day.</td>\n",
       "      <td>incorrect</td>\n",
       "      <td>[used, several, methods, separate, identify, s...</td>\n",
       "      <td>[water, evaporated, leaving, salt]</td>\n",
       "      <td>[letting, sit, dish, day]</td>\n",
       "    </tr>\n",
       "    <tr>\n",
       "      <th>1</th>\n",
       "      <td>0</td>\n",
       "      <td>EM</td>\n",
       "      <td>EM_45b</td>\n",
       "      <td>You used several methods to separate and ident...</td>\n",
       "      <td>The water was evaporated, leaving the salt.</td>\n",
       "      <td>Let the water evaporate and the salt is left b...</td>\n",
       "      <td>correct</td>\n",
       "      <td>[used, several, methods, separate, identify, s...</td>\n",
       "      <td>[water, evaporated, leaving, salt]</td>\n",
       "      <td>[let, water, evaporate, salt, left, behind]</td>\n",
       "    </tr>\n",
       "    <tr>\n",
       "      <th>2</th>\n",
       "      <td>0</td>\n",
       "      <td>EM</td>\n",
       "      <td>EM_45b</td>\n",
       "      <td>You used several methods to separate and ident...</td>\n",
       "      <td>The water was evaporated, leaving the salt.</td>\n",
       "      <td>The water evaporated and left salt crystals.</td>\n",
       "      <td>correct</td>\n",
       "      <td>[used, several, methods, separate, identify, s...</td>\n",
       "      <td>[water, evaporated, leaving, salt]</td>\n",
       "      <td>[water, evaporated, left, salt, crystals]</td>\n",
       "    </tr>\n",
       "    <tr>\n",
       "      <th>3</th>\n",
       "      <td>0</td>\n",
       "      <td>EM</td>\n",
       "      <td>EM_45b</td>\n",
       "      <td>You used several methods to separate and ident...</td>\n",
       "      <td>The water was evaporated, leaving the salt.</td>\n",
       "      <td>I saw a pinkish grayish color that was blockin...</td>\n",
       "      <td>incorrect</td>\n",
       "      <td>[used, several, methods, separate, identify, s...</td>\n",
       "      <td>[water, evaporated, leaving, salt]</td>\n",
       "      <td>[saw, pinkish, grayish, color, blocking, water]</td>\n",
       "    </tr>\n",
       "    <tr>\n",
       "      <th>4</th>\n",
       "      <td>0</td>\n",
       "      <td>EM</td>\n",
       "      <td>EM_45b</td>\n",
       "      <td>You used several methods to separate and ident...</td>\n",
       "      <td>The water was evaporated, leaving the salt.</td>\n",
       "      <td>You have to slowly tip the vial for only the w...</td>\n",
       "      <td>incorrect</td>\n",
       "      <td>[used, several, methods, separate, identify, s...</td>\n",
       "      <td>[water, evaporated, leaving, salt]</td>\n",
       "      <td>[slowly, tip, vial, water, go]</td>\n",
       "    </tr>\n",
       "  </tbody>\n",
       "</table>\n",
       "</div>"
      ],
      "text/plain": [
       "   QuestionNumber Module QuestionID  \\\n",
       "0               0     EM     EM_45b   \n",
       "1               0     EM     EM_45b   \n",
       "2               0     EM     EM_45b   \n",
       "3               0     EM     EM_45b   \n",
       "4               0     EM     EM_45b   \n",
       "\n",
       "                                           Questions  \\\n",
       "0  You used several methods to separate and ident...   \n",
       "1  You used several methods to separate and ident...   \n",
       "2  You used several methods to separate and ident...   \n",
       "3  You used several methods to separate and ident...   \n",
       "4  You used several methods to separate and ident...   \n",
       "\n",
       "                               ReferenceAnswer  \\\n",
       "0  The water was evaporated, leaving the salt.   \n",
       "1  The water was evaporated, leaving the salt.   \n",
       "2  The water was evaporated, leaving the salt.   \n",
       "3  The water was evaporated, leaving the salt.   \n",
       "4  The water was evaporated, leaving the salt.   \n",
       "\n",
       "                                       StudentAnswer   Accuracy  \\\n",
       "0             By letting it sit in a dish for a day.  incorrect   \n",
       "1  Let the water evaporate and the salt is left b...    correct   \n",
       "2       The water evaporated and left salt crystals.    correct   \n",
       "3  I saw a pinkish grayish color that was blockin...  incorrect   \n",
       "4  You have to slowly tip the vial for only the w...  incorrect   \n",
       "\n",
       "                                      Question_words  \\\n",
       "0  [used, several, methods, separate, identify, s...   \n",
       "1  [used, several, methods, separate, identify, s...   \n",
       "2  [used, several, methods, separate, identify, s...   \n",
       "3  [used, several, methods, separate, identify, s...   \n",
       "4  [used, several, methods, separate, identify, s...   \n",
       "\n",
       "                ReferenceAnswer_words  \\\n",
       "0  [water, evaporated, leaving, salt]   \n",
       "1  [water, evaporated, leaving, salt]   \n",
       "2  [water, evaporated, leaving, salt]   \n",
       "3  [water, evaporated, leaving, salt]   \n",
       "4  [water, evaporated, leaving, salt]   \n",
       "\n",
       "                               StudentAnswer_words  \n",
       "0                        [letting, sit, dish, day]  \n",
       "1      [let, water, evaporate, salt, left, behind]  \n",
       "2        [water, evaporated, left, salt, crystals]  \n",
       "3  [saw, pinkish, grayish, color, blocking, water]  \n",
       "4                   [slowly, tip, vial, water, go]  "
      ]
     },
     "execution_count": 81,
     "metadata": {},
     "output_type": "execute_result"
    }
   ],
   "source": [
    "X_lemma_df=get_DataFrame()\n",
    "X_lemma_df = get_words(X_lemma_df, isStopWord=True, return_string=False)\n",
    "X_lemma_df.head(5)"
   ]
  },
  {
   "cell_type": "code",
   "execution_count": 82,
   "metadata": {},
   "outputs": [
    {
     "data": {
      "text/html": [
       "<div>\n",
       "<style scoped>\n",
       "    .dataframe tbody tr th:only-of-type {\n",
       "        vertical-align: middle;\n",
       "    }\n",
       "\n",
       "    .dataframe tbody tr th {\n",
       "        vertical-align: top;\n",
       "    }\n",
       "\n",
       "    .dataframe thead th {\n",
       "        text-align: right;\n",
       "    }\n",
       "</style>\n",
       "<table border=\"1\" class=\"dataframe\">\n",
       "  <thead>\n",
       "    <tr style=\"text-align: right;\">\n",
       "      <th></th>\n",
       "      <th>QuestionNumber</th>\n",
       "      <th>Module</th>\n",
       "      <th>QuestionID</th>\n",
       "      <th>Questions</th>\n",
       "      <th>ReferenceAnswer</th>\n",
       "      <th>StudentAnswer</th>\n",
       "      <th>Accuracy</th>\n",
       "      <th>Question_words</th>\n",
       "      <th>ReferenceAnswer_words</th>\n",
       "      <th>StudentAnswer_words</th>\n",
       "      <th>Que_lemma</th>\n",
       "      <th>Ref_lemma</th>\n",
       "      <th>Student_lemma</th>\n",
       "    </tr>\n",
       "  </thead>\n",
       "  <tbody>\n",
       "    <tr>\n",
       "      <th>0</th>\n",
       "      <td>0</td>\n",
       "      <td>EM</td>\n",
       "      <td>EM_45b</td>\n",
       "      <td>You used several methods to separate and ident...</td>\n",
       "      <td>The water was evaporated, leaving the salt.</td>\n",
       "      <td>By letting it sit in a dish for a day.</td>\n",
       "      <td>incorrect</td>\n",
       "      <td>[used, several, methods, separate, identify, s...</td>\n",
       "      <td>[water, evaporated, leaving, salt]</td>\n",
       "      <td>[letting, sit, dish, day]</td>\n",
       "      <td>[use, several, method, separate, identify, sub...</td>\n",
       "      <td>[water, evaporate, leave, salt]</td>\n",
       "      <td>[let, sit, dish, day]</td>\n",
       "    </tr>\n",
       "    <tr>\n",
       "      <th>1</th>\n",
       "      <td>0</td>\n",
       "      <td>EM</td>\n",
       "      <td>EM_45b</td>\n",
       "      <td>You used several methods to separate and ident...</td>\n",
       "      <td>The water was evaporated, leaving the salt.</td>\n",
       "      <td>Let the water evaporate and the salt is left b...</td>\n",
       "      <td>correct</td>\n",
       "      <td>[used, several, methods, separate, identify, s...</td>\n",
       "      <td>[water, evaporated, leaving, salt]</td>\n",
       "      <td>[let, water, evaporate, salt, left, behind]</td>\n",
       "      <td>[use, several, method, separate, identify, sub...</td>\n",
       "      <td>[water, evaporate, leave, salt]</td>\n",
       "      <td>[let, water, evaporate, salt, left, behind]</td>\n",
       "    </tr>\n",
       "    <tr>\n",
       "      <th>2</th>\n",
       "      <td>0</td>\n",
       "      <td>EM</td>\n",
       "      <td>EM_45b</td>\n",
       "      <td>You used several methods to separate and ident...</td>\n",
       "      <td>The water was evaporated, leaving the salt.</td>\n",
       "      <td>The water evaporated and left salt crystals.</td>\n",
       "      <td>correct</td>\n",
       "      <td>[used, several, methods, separate, identify, s...</td>\n",
       "      <td>[water, evaporated, leaving, salt]</td>\n",
       "      <td>[water, evaporated, left, salt, crystals]</td>\n",
       "      <td>[use, several, method, separate, identify, sub...</td>\n",
       "      <td>[water, evaporate, leave, salt]</td>\n",
       "      <td>[water, evaporate, left, salt, crystal]</td>\n",
       "    </tr>\n",
       "    <tr>\n",
       "      <th>3</th>\n",
       "      <td>0</td>\n",
       "      <td>EM</td>\n",
       "      <td>EM_45b</td>\n",
       "      <td>You used several methods to separate and ident...</td>\n",
       "      <td>The water was evaporated, leaving the salt.</td>\n",
       "      <td>I saw a pinkish grayish color that was blockin...</td>\n",
       "      <td>incorrect</td>\n",
       "      <td>[used, several, methods, separate, identify, s...</td>\n",
       "      <td>[water, evaporated, leaving, salt]</td>\n",
       "      <td>[saw, pinkish, grayish, color, blocking, water]</td>\n",
       "      <td>[use, several, method, separate, identify, sub...</td>\n",
       "      <td>[water, evaporate, leave, salt]</td>\n",
       "      <td>[saw, pinkish, grayish, color, block, water]</td>\n",
       "    </tr>\n",
       "    <tr>\n",
       "      <th>4</th>\n",
       "      <td>0</td>\n",
       "      <td>EM</td>\n",
       "      <td>EM_45b</td>\n",
       "      <td>You used several methods to separate and ident...</td>\n",
       "      <td>The water was evaporated, leaving the salt.</td>\n",
       "      <td>You have to slowly tip the vial for only the w...</td>\n",
       "      <td>incorrect</td>\n",
       "      <td>[used, several, methods, separate, identify, s...</td>\n",
       "      <td>[water, evaporated, leaving, salt]</td>\n",
       "      <td>[slowly, tip, vial, water, go]</td>\n",
       "      <td>[use, several, method, separate, identify, sub...</td>\n",
       "      <td>[water, evaporate, leave, salt]</td>\n",
       "      <td>[slowly, tip, vial, water, go]</td>\n",
       "    </tr>\n",
       "  </tbody>\n",
       "</table>\n",
       "</div>"
      ],
      "text/plain": [
       "   QuestionNumber Module QuestionID  \\\n",
       "0               0     EM     EM_45b   \n",
       "1               0     EM     EM_45b   \n",
       "2               0     EM     EM_45b   \n",
       "3               0     EM     EM_45b   \n",
       "4               0     EM     EM_45b   \n",
       "\n",
       "                                           Questions  \\\n",
       "0  You used several methods to separate and ident...   \n",
       "1  You used several methods to separate and ident...   \n",
       "2  You used several methods to separate and ident...   \n",
       "3  You used several methods to separate and ident...   \n",
       "4  You used several methods to separate and ident...   \n",
       "\n",
       "                               ReferenceAnswer  \\\n",
       "0  The water was evaporated, leaving the salt.   \n",
       "1  The water was evaporated, leaving the salt.   \n",
       "2  The water was evaporated, leaving the salt.   \n",
       "3  The water was evaporated, leaving the salt.   \n",
       "4  The water was evaporated, leaving the salt.   \n",
       "\n",
       "                                       StudentAnswer   Accuracy  \\\n",
       "0             By letting it sit in a dish for a day.  incorrect   \n",
       "1  Let the water evaporate and the salt is left b...    correct   \n",
       "2       The water evaporated and left salt crystals.    correct   \n",
       "3  I saw a pinkish grayish color that was blockin...  incorrect   \n",
       "4  You have to slowly tip the vial for only the w...  incorrect   \n",
       "\n",
       "                                      Question_words  \\\n",
       "0  [used, several, methods, separate, identify, s...   \n",
       "1  [used, several, methods, separate, identify, s...   \n",
       "2  [used, several, methods, separate, identify, s...   \n",
       "3  [used, several, methods, separate, identify, s...   \n",
       "4  [used, several, methods, separate, identify, s...   \n",
       "\n",
       "                ReferenceAnswer_words  \\\n",
       "0  [water, evaporated, leaving, salt]   \n",
       "1  [water, evaporated, leaving, salt]   \n",
       "2  [water, evaporated, leaving, salt]   \n",
       "3  [water, evaporated, leaving, salt]   \n",
       "4  [water, evaporated, leaving, salt]   \n",
       "\n",
       "                               StudentAnswer_words  \\\n",
       "0                        [letting, sit, dish, day]   \n",
       "1      [let, water, evaporate, salt, left, behind]   \n",
       "2        [water, evaporated, left, salt, crystals]   \n",
       "3  [saw, pinkish, grayish, color, blocking, water]   \n",
       "4                   [slowly, tip, vial, water, go]   \n",
       "\n",
       "                                           Que_lemma  \\\n",
       "0  [use, several, method, separate, identify, sub...   \n",
       "1  [use, several, method, separate, identify, sub...   \n",
       "2  [use, several, method, separate, identify, sub...   \n",
       "3  [use, several, method, separate, identify, sub...   \n",
       "4  [use, several, method, separate, identify, sub...   \n",
       "\n",
       "                         Ref_lemma  \\\n",
       "0  [water, evaporate, leave, salt]   \n",
       "1  [water, evaporate, leave, salt]   \n",
       "2  [water, evaporate, leave, salt]   \n",
       "3  [water, evaporate, leave, salt]   \n",
       "4  [water, evaporate, leave, salt]   \n",
       "\n",
       "                                  Student_lemma  \n",
       "0                         [let, sit, dish, day]  \n",
       "1   [let, water, evaporate, salt, left, behind]  \n",
       "2       [water, evaporate, left, salt, crystal]  \n",
       "3  [saw, pinkish, grayish, color, block, water]  \n",
       "4                [slowly, tip, vial, water, go]  "
      ]
     },
     "execution_count": 82,
     "metadata": {},
     "output_type": "execute_result"
    }
   ],
   "source": [
    "#Getting lemmatized sentences of the input triplet\n",
    "X_lemma_df['Que_lemma'] = X_lemma_df['Question_words'].apply(lemmatize)\n",
    "X_lemma_df['Ref_lemma'] = X_lemma_df['ReferenceAnswer_words'].apply(lemmatize)\n",
    "X_lemma_df['Student_lemma'] = X_lemma_df['StudentAnswer_words'].apply(lemmatize)\n",
    "X_lemma_df.head(5)"
   ]
  },
  {
   "cell_type": "code",
   "execution_count": 84,
   "metadata": {},
   "outputs": [
    {
     "data": {
      "text/html": [
       "<div>\n",
       "<style scoped>\n",
       "    .dataframe tbody tr th:only-of-type {\n",
       "        vertical-align: middle;\n",
       "    }\n",
       "\n",
       "    .dataframe tbody tr th {\n",
       "        vertical-align: top;\n",
       "    }\n",
       "\n",
       "    .dataframe thead th {\n",
       "        text-align: right;\n",
       "    }\n",
       "</style>\n",
       "<table border=\"1\" class=\"dataframe\">\n",
       "  <thead>\n",
       "    <tr style=\"text-align: right;\">\n",
       "      <th></th>\n",
       "      <th>QuestionNumber</th>\n",
       "      <th>Module</th>\n",
       "      <th>QuestionID</th>\n",
       "      <th>Questions</th>\n",
       "      <th>ReferenceAnswer</th>\n",
       "      <th>StudentAnswer</th>\n",
       "      <th>Accuracy</th>\n",
       "      <th>Question_words</th>\n",
       "      <th>ReferenceAnswer_words</th>\n",
       "      <th>StudentAnswer_words</th>\n",
       "      <th>Que_lemma</th>\n",
       "      <th>Ref_lemma</th>\n",
       "      <th>Student_lemma</th>\n",
       "      <th>JS_que_ref</th>\n",
       "      <th>JS_que_stu</th>\n",
       "      <th>JS_ref_stu</th>\n",
       "    </tr>\n",
       "  </thead>\n",
       "  <tbody>\n",
       "    <tr>\n",
       "      <th>0</th>\n",
       "      <td>0</td>\n",
       "      <td>EM</td>\n",
       "      <td>EM_45b</td>\n",
       "      <td>You used several methods to separate and ident...</td>\n",
       "      <td>The water was evaporated, leaving the salt.</td>\n",
       "      <td>By letting it sit in a dish for a day.</td>\n",
       "      <td>incorrect</td>\n",
       "      <td>[used, several, methods, separate, identify, s...</td>\n",
       "      <td>[water, evaporated, leaving, salt]</td>\n",
       "      <td>[letting, sit, dish, day]</td>\n",
       "      <td>[use, several, method, separate, identify, sub...</td>\n",
       "      <td>[water, evaporate, leave, salt]</td>\n",
       "      <td>[let, sit, dish, day]</td>\n",
       "      <td>0.166667</td>\n",
       "      <td>0.000000</td>\n",
       "      <td>0.000000</td>\n",
       "    </tr>\n",
       "    <tr>\n",
       "      <th>1</th>\n",
       "      <td>0</td>\n",
       "      <td>EM</td>\n",
       "      <td>EM_45b</td>\n",
       "      <td>You used several methods to separate and ident...</td>\n",
       "      <td>The water was evaporated, leaving the salt.</td>\n",
       "      <td>Let the water evaporate and the salt is left b...</td>\n",
       "      <td>correct</td>\n",
       "      <td>[used, several, methods, separate, identify, s...</td>\n",
       "      <td>[water, evaporated, leaving, salt]</td>\n",
       "      <td>[let, water, evaporate, salt, left, behind]</td>\n",
       "      <td>[use, several, method, separate, identify, sub...</td>\n",
       "      <td>[water, evaporate, leave, salt]</td>\n",
       "      <td>[let, water, evaporate, salt, left, behind]</td>\n",
       "      <td>0.166667</td>\n",
       "      <td>0.142857</td>\n",
       "      <td>0.428571</td>\n",
       "    </tr>\n",
       "    <tr>\n",
       "      <th>2</th>\n",
       "      <td>0</td>\n",
       "      <td>EM</td>\n",
       "      <td>EM_45b</td>\n",
       "      <td>You used several methods to separate and ident...</td>\n",
       "      <td>The water was evaporated, leaving the salt.</td>\n",
       "      <td>The water evaporated and left salt crystals.</td>\n",
       "      <td>correct</td>\n",
       "      <td>[used, several, methods, separate, identify, s...</td>\n",
       "      <td>[water, evaporated, leaving, salt]</td>\n",
       "      <td>[water, evaporated, left, salt, crystals]</td>\n",
       "      <td>[use, several, method, separate, identify, sub...</td>\n",
       "      <td>[water, evaporate, leave, salt]</td>\n",
       "      <td>[water, evaporate, left, salt, crystal]</td>\n",
       "      <td>0.166667</td>\n",
       "      <td>0.153846</td>\n",
       "      <td>0.500000</td>\n",
       "    </tr>\n",
       "    <tr>\n",
       "      <th>3</th>\n",
       "      <td>0</td>\n",
       "      <td>EM</td>\n",
       "      <td>EM_45b</td>\n",
       "      <td>You used several methods to separate and ident...</td>\n",
       "      <td>The water was evaporated, leaving the salt.</td>\n",
       "      <td>I saw a pinkish grayish color that was blockin...</td>\n",
       "      <td>incorrect</td>\n",
       "      <td>[used, several, methods, separate, identify, s...</td>\n",
       "      <td>[water, evaporated, leaving, salt]</td>\n",
       "      <td>[saw, pinkish, grayish, color, blocking, water]</td>\n",
       "      <td>[use, several, method, separate, identify, sub...</td>\n",
       "      <td>[water, evaporate, leave, salt]</td>\n",
       "      <td>[saw, pinkish, grayish, color, block, water]</td>\n",
       "      <td>0.166667</td>\n",
       "      <td>0.066667</td>\n",
       "      <td>0.111111</td>\n",
       "    </tr>\n",
       "    <tr>\n",
       "      <th>4</th>\n",
       "      <td>0</td>\n",
       "      <td>EM</td>\n",
       "      <td>EM_45b</td>\n",
       "      <td>You used several methods to separate and ident...</td>\n",
       "      <td>The water was evaporated, leaving the salt.</td>\n",
       "      <td>You have to slowly tip the vial for only the w...</td>\n",
       "      <td>incorrect</td>\n",
       "      <td>[used, several, methods, separate, identify, s...</td>\n",
       "      <td>[water, evaporated, leaving, salt]</td>\n",
       "      <td>[slowly, tip, vial, water, go]</td>\n",
       "      <td>[use, several, method, separate, identify, sub...</td>\n",
       "      <td>[water, evaporate, leave, salt]</td>\n",
       "      <td>[slowly, tip, vial, water, go]</td>\n",
       "      <td>0.166667</td>\n",
       "      <td>0.071429</td>\n",
       "      <td>0.125000</td>\n",
       "    </tr>\n",
       "  </tbody>\n",
       "</table>\n",
       "</div>"
      ],
      "text/plain": [
       "   QuestionNumber Module QuestionID  \\\n",
       "0               0     EM     EM_45b   \n",
       "1               0     EM     EM_45b   \n",
       "2               0     EM     EM_45b   \n",
       "3               0     EM     EM_45b   \n",
       "4               0     EM     EM_45b   \n",
       "\n",
       "                                           Questions  \\\n",
       "0  You used several methods to separate and ident...   \n",
       "1  You used several methods to separate and ident...   \n",
       "2  You used several methods to separate and ident...   \n",
       "3  You used several methods to separate and ident...   \n",
       "4  You used several methods to separate and ident...   \n",
       "\n",
       "                               ReferenceAnswer  \\\n",
       "0  The water was evaporated, leaving the salt.   \n",
       "1  The water was evaporated, leaving the salt.   \n",
       "2  The water was evaporated, leaving the salt.   \n",
       "3  The water was evaporated, leaving the salt.   \n",
       "4  The water was evaporated, leaving the salt.   \n",
       "\n",
       "                                       StudentAnswer   Accuracy  \\\n",
       "0             By letting it sit in a dish for a day.  incorrect   \n",
       "1  Let the water evaporate and the salt is left b...    correct   \n",
       "2       The water evaporated and left salt crystals.    correct   \n",
       "3  I saw a pinkish grayish color that was blockin...  incorrect   \n",
       "4  You have to slowly tip the vial for only the w...  incorrect   \n",
       "\n",
       "                                      Question_words  \\\n",
       "0  [used, several, methods, separate, identify, s...   \n",
       "1  [used, several, methods, separate, identify, s...   \n",
       "2  [used, several, methods, separate, identify, s...   \n",
       "3  [used, several, methods, separate, identify, s...   \n",
       "4  [used, several, methods, separate, identify, s...   \n",
       "\n",
       "                ReferenceAnswer_words  \\\n",
       "0  [water, evaporated, leaving, salt]   \n",
       "1  [water, evaporated, leaving, salt]   \n",
       "2  [water, evaporated, leaving, salt]   \n",
       "3  [water, evaporated, leaving, salt]   \n",
       "4  [water, evaporated, leaving, salt]   \n",
       "\n",
       "                               StudentAnswer_words  \\\n",
       "0                        [letting, sit, dish, day]   \n",
       "1      [let, water, evaporate, salt, left, behind]   \n",
       "2        [water, evaporated, left, salt, crystals]   \n",
       "3  [saw, pinkish, grayish, color, blocking, water]   \n",
       "4                   [slowly, tip, vial, water, go]   \n",
       "\n",
       "                                           Que_lemma  \\\n",
       "0  [use, several, method, separate, identify, sub...   \n",
       "1  [use, several, method, separate, identify, sub...   \n",
       "2  [use, several, method, separate, identify, sub...   \n",
       "3  [use, several, method, separate, identify, sub...   \n",
       "4  [use, several, method, separate, identify, sub...   \n",
       "\n",
       "                         Ref_lemma  \\\n",
       "0  [water, evaporate, leave, salt]   \n",
       "1  [water, evaporate, leave, salt]   \n",
       "2  [water, evaporate, leave, salt]   \n",
       "3  [water, evaporate, leave, salt]   \n",
       "4  [water, evaporate, leave, salt]   \n",
       "\n",
       "                                  Student_lemma  JS_que_ref  JS_que_stu  \\\n",
       "0                         [let, sit, dish, day]    0.166667    0.000000   \n",
       "1   [let, water, evaporate, salt, left, behind]    0.166667    0.142857   \n",
       "2       [water, evaporate, left, salt, crystal]    0.166667    0.153846   \n",
       "3  [saw, pinkish, grayish, color, block, water]    0.166667    0.066667   \n",
       "4                [slowly, tip, vial, water, go]    0.166667    0.071429   \n",
       "\n",
       "   JS_ref_stu  \n",
       "0    0.000000  \n",
       "1    0.428571  \n",
       "2    0.500000  \n",
       "3    0.111111  \n",
       "4    0.125000  "
      ]
     },
     "execution_count": 84,
     "metadata": {},
     "output_type": "execute_result"
    }
   ],
   "source": [
    "X_lemma_df['JS_que_ref']=X_lemma_df.apply(lambda col: jaccard_similarity(col['Que_lemma'], col['Ref_lemma']), axis=1)\n",
    "X_lemma_df['JS_que_stu']=X_lemma_df.apply(lambda col: jaccard_similarity(col['Que_lemma'], col['Student_lemma']), axis=1)\n",
    "X_lemma_df['JS_ref_stu']=X_lemma_df.apply(lambda col: jaccard_similarity(col['Ref_lemma'], col['Student_lemma']), axis=1)\n",
    "X_lemma_df.head(5)"
   ]
  },
  {
   "cell_type": "code",
   "execution_count": 85,
   "metadata": {},
   "outputs": [
    {
     "data": {
      "text/html": [
       "<div>\n",
       "<style scoped>\n",
       "    .dataframe tbody tr th:only-of-type {\n",
       "        vertical-align: middle;\n",
       "    }\n",
       "\n",
       "    .dataframe tbody tr th {\n",
       "        vertical-align: top;\n",
       "    }\n",
       "\n",
       "    .dataframe thead th {\n",
       "        text-align: right;\n",
       "    }\n",
       "</style>\n",
       "<table border=\"1\" class=\"dataframe\">\n",
       "  <thead>\n",
       "    <tr style=\"text-align: right;\">\n",
       "      <th></th>\n",
       "      <th>JS_que_ref</th>\n",
       "      <th>JS_que_stu</th>\n",
       "      <th>JS_ref_stu</th>\n",
       "    </tr>\n",
       "  </thead>\n",
       "  <tbody>\n",
       "    <tr>\n",
       "      <th>0</th>\n",
       "      <td>0.166667</td>\n",
       "      <td>0.000000</td>\n",
       "      <td>0.000000</td>\n",
       "    </tr>\n",
       "    <tr>\n",
       "      <th>1</th>\n",
       "      <td>0.166667</td>\n",
       "      <td>0.142857</td>\n",
       "      <td>0.428571</td>\n",
       "    </tr>\n",
       "    <tr>\n",
       "      <th>2</th>\n",
       "      <td>0.166667</td>\n",
       "      <td>0.153846</td>\n",
       "      <td>0.500000</td>\n",
       "    </tr>\n",
       "    <tr>\n",
       "      <th>3</th>\n",
       "      <td>0.166667</td>\n",
       "      <td>0.066667</td>\n",
       "      <td>0.111111</td>\n",
       "    </tr>\n",
       "    <tr>\n",
       "      <th>4</th>\n",
       "      <td>0.166667</td>\n",
       "      <td>0.071429</td>\n",
       "      <td>0.125000</td>\n",
       "    </tr>\n",
       "  </tbody>\n",
       "</table>\n",
       "</div>"
      ],
      "text/plain": [
       "   JS_que_ref  JS_que_stu  JS_ref_stu\n",
       "0    0.166667    0.000000    0.000000\n",
       "1    0.166667    0.142857    0.428571\n",
       "2    0.166667    0.153846    0.500000\n",
       "3    0.166667    0.066667    0.111111\n",
       "4    0.166667    0.071429    0.125000"
      ]
     },
     "execution_count": 85,
     "metadata": {},
     "output_type": "execute_result"
    }
   ],
   "source": [
    "X = X_lemma_df.iloc[:,-3:]\n",
    "y = X_lemma_df['Accuracy']\n",
    "X.head(5)"
   ]
  },
  {
   "cell_type": "code",
   "execution_count": 86,
   "metadata": {},
   "outputs": [
    {
     "name": "stdout",
     "output_type": "stream",
     "text": [
      "LR: 0.6804 (0.031)\n",
      "KNN: 0.6257 (0.03393)\n",
      "NB-Bernoulli: 0.5655 (0.07368)\n",
      "SGD: 0.674 (0.03661)\n",
      "SVM: 0.6802 (0.03089)\n",
      "GBC: 0.6794 (0.02394)\n",
      "RF: 0.6452 (0.03198)\n",
      "MLP: 0.6849 (0.03107)\n"
     ]
    }
   ],
   "source": [
    "models = get_model()\n",
    "names,results = get_baseline_performance(X, y,models)  "
   ]
  },
  {
   "cell_type": "markdown",
   "metadata": {},
   "source": [
    "This is Great! We have even better results than our last best score of 0.6673 by LogisticRegression. That means, performing lemmatization before calculating Jaccard Similarity actually helps to get a considerable performance boost.  \n",
    "\n",
    "Now let's see cosine similarity performance for these models. "
   ]
  },
  {
   "cell_type": "markdown",
   "metadata": {},
   "source": [
    "### Cosine Similarity"
   ]
  },
  {
   "cell_type": "markdown",
   "metadata": {},
   "source": [
    "To find cosine similarity, we need a vector per document(i.e. individual vector per question, reference answer and student answer). We can directly train doc2vec models but that will take a lot of data. Here I am going to train a simple word2vec model and then use averaging method to get a document vector."
   ]
  },
  {
   "cell_type": "code",
   "execution_count": 112,
   "metadata": {
    "collapsed": true
   },
   "outputs": [],
   "source": [
    "from gensim.models import Word2Vec\n",
    "from sklearn.decomposition import PCA\n",
    "import matplotlib.pyplot as plt\n",
    "from scipy.spatial.distance import cosine\n",
    "import numpy as np"
   ]
  },
  {
   "cell_type": "code",
   "execution_count": 96,
   "metadata": {
    "collapsed": true
   },
   "outputs": [],
   "source": [
    "#Creating documents of all sentences in a dataset to train word2vec model\n",
    "document=[]\n",
    "for i in range(len(questions)):\n",
    "    document.append(questions[i])\n",
    "    document.append(reference_answer[i])\n",
    "    for j in student_answer[i]:\n",
    "        document.append(j[0])"
   ]
  },
  {
   "cell_type": "code",
   "execution_count": 98,
   "metadata": {},
   "outputs": [
    {
     "name": "stdout",
     "output_type": "stream",
     "text": [
      "[['you', 'used', 'several', 'methods', 'to', 'separate', 'and', 'identify', 'the', 'substances', 'in', 'mock', 'rocks', 'how', 'did', 'you', 'separate', 'the', 'salt', 'from', 'the', 'water'], ['the', 'water', 'was', 'evaporated', 'leaving', 'the', 'salt'], ['by', 'letting', 'it', 'sit', 'in', 'a', 'dish', 'for', 'a', 'day'], ['let', 'the', 'water', 'evaporate', 'and', 'the', 'salt', 'is', 'left', 'behind'], ['the', 'water', 'evaporated', 'and', 'left', 'salt', 'crystals']] "
     ]
    }
   ],
   "source": [
    "document_words=list(map(lambda x: tokenize(x,isStopWord=False), document))\n",
    "print(document_words[:5],end=\" \")"
   ]
  },
  {
   "cell_type": "code",
   "execution_count": 100,
   "metadata": {},
   "outputs": [
    {
     "name": "stdout",
     "output_type": "stream",
     "text": [
      "Total Words: 71108\n"
     ]
    }
   ],
   "source": [
    "print('Total Words: {}'.format(sum(map(lambda x: len(x),document_words))))"
   ]
  },
  {
   "cell_type": "code",
   "execution_count": 102,
   "metadata": {},
   "outputs": [
    {
     "name": "stdout",
     "output_type": "stream",
     "text": [
      "Word2Vec(vocab=2544, size=100, alpha=0.025)\n"
     ]
    }
   ],
   "source": [
    "model = Word2Vec(document_words, min_count=1)\n",
    "print(model)"
   ]
  },
  {
   "cell_type": "code",
   "execution_count": 120,
   "metadata": {},
   "outputs": [
    {
     "data": {
      "image/png": "[encoded data removed]",
      "text/plain": [
       "<Figure size 1440x720 with 1 Axes>"
      ]
     },
     "metadata": {},
     "output_type": "display_data"
    }
   ],
   "source": [
    "# fitting a 2d PCA model to the vectors for visualization\n",
    "X = model[model.wv.vocab]\n",
    "pca = PCA(n_components=2)\n",
    "result = pca.fit_transform(X)\n",
    "# create a scatter plot of the projection\n",
    "plt.figure(figsize=(20,10))\n",
    "plt.scatter(result[:, 0], result[:, 1])\n",
    "words = list(model.wv.index2entity[500:600])\n",
    "for i, word in enumerate(words):\n",
    "    plt.annotate(word, xy=(result[i, 0], result[i, 1]))\n",
    "\n",
    "\n",
    "plt.show()"
   ]
  },
  {
   "cell_type": "code",
   "execution_count": 108,
   "metadata": {
    "collapsed": true
   },
   "outputs": [],
   "source": [
    "def get_sec2vec(model,words):\n",
    "    word_array = np.vstack([model[word] if word in model.wv.vocab else np.zeros(model.vector_size,) for word in words])\n",
    "    return np.mean(word_array,axis=0)\n",
    "\n",
    "def merge_sec2vec(model,sentence_list):\n",
    "    return np.vstack([get_sec2vec(model,sec) for sec in sentence_list ])"
   ]
  },
  {
   "cell_type": "code",
   "execution_count": 109,
   "metadata": {
    "collapsed": true
   },
   "outputs": [],
   "source": [
    "CS_df=get_DataFrame()\n",
    "CS_df=get_words(CS_df,isStopWord=False)"
   ]
  },
  {
   "cell_type": "code",
   "execution_count": 113,
   "metadata": {},
   "outputs": [],
   "source": [
    "que_vec = merge_sec2vec(model,(CS_df['Question_words']))\n",
    "ref_vec = merge_sec2vec(model,(CS_df['ReferenceAnswer_words']))\n",
    "student_vec = merge_sec2vec(model,(CS_df['StudentAnswer_words']))"
   ]
  },
  {
   "cell_type": "code",
   "execution_count": 115,
   "metadata": {
    "collapsed": true
   },
   "outputs": [],
   "source": [
    "CS_dict={'CS_que_ref':[],\n",
    "         'CS_que_stu':[],\n",
    "         'CS_ref_stu':[]}\n",
    "\n",
    "for i in range(len(que_vec)):\n",
    "    CS_dict['CS_que_ref']=CS_dict.get('CS_que_ref',[])+[cosine(que_vec[i,:], ref_vec[i,:])]\n",
    "    CS_dict['CS_que_stu']=CS_dict.get('CS_que_stu',[])+[cosine(que_vec[i,:], student_vec[i,:])]\n",
    "    CS_dict['CS_ref_stu']=CS_dict.get('CS_ref_stu',[])+[cosine(ref_vec[i,:], student_vec[i,:])]"
   ]
  },
  {
   "cell_type": "code",
   "execution_count": 116,
   "metadata": {},
   "outputs": [],
   "source": [
    "X_CS=pd.DataFrame.from_dict(CS_dict)\n",
    "y=CS_df['Accuracy']"
   ]
  },
  {
   "cell_type": "code",
   "execution_count": 117,
   "metadata": {},
   "outputs": [
    {
     "name": "stdout",
     "output_type": "stream",
     "text": [
      "LR: 0.5959 (0.0643)\n",
      "KNN: 0.549 (0.02211)\n",
      "NB-Bernoulli: 0.5959 (0.0643)\n",
      "SGD: 0.5435 (0.1069)\n",
      "SVM: 0.5959 (0.0643)\n",
      "GBC: 0.5673 (0.03586)\n",
      "RF: 0.5643 (0.03913)\n",
      "MLP: 0.5959 (0.0643)\n"
     ]
    }
   ],
   "source": [
    "models = get_model()\n",
    "names,results = get_baseline_performance(X_CS, y, models)  "
   ]
  },
  {
   "cell_type": "markdown",
   "metadata": {},
   "source": [
    "The performance for cosine similarity is worst than what we got for BoWs. Averaging all word vectors from a document might be the cause of this. Usually cosine similarity produce better results and is preffered over jaccard similarity.\n",
    "Things that might help: \n",
    "- instead of averaging, trying Smooth Inverse Frequency (SIF)\n",
    "- taking SIF using word vector per sentence instead of per document\n",
    "- trying out doc2vec approach with larger dataset"
   ]
  }
 ],
 "metadata": {
  "kernelspec": {
   "display_name": "Python [conda root]",
   "language": "python",
   "name": "conda-root-py"
  },
  "language_info": {
   "codemirror_mode": {
    "name": "ipython",
    "version": 3
   },
   "file_extension": ".py",
   "mimetype": "text/x-python",
   "name": "python",
   "nbconvert_exporter": "python",
   "pygments_lexer": "ipython3",
   "version": "3.5.6"
  }
 },
 "nbformat": 4,
 "nbformat_minor": 2
}
